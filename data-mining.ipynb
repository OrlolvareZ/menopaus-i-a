{
 "cells": [
  {
   "cell_type": "code",
   "execution_count": null,
   "metadata": {},
   "outputs": [],
   "source": [
    "# Instala las librerías contenidas en el archivo requirements. La bandera -q es para que no muestre los mensajes de instalación.\n",
    "%pip install -r ./requirements.txt -q"
   ]
  },
  {
   "cell_type": "markdown",
   "metadata": {},
   "source": [
    "💡 Es útil emplear la herramienta de `nbdev`, debido a que permiten utilizar git sin enviar los metadatos de las celdas de un notebook. Esto es útil para evitar conflictos en los notebooks cuando se trabaja en equipo."
   ]
  },
  {
   "cell_type": "code",
   "execution_count": 96,
   "metadata": {},
   "outputs": [
    {
     "name": "stdout",
     "output_type": "stream",
     "text": [
      "Hooks are installed.\n"
     ]
    }
   ],
   "source": [
    "!nbdev_install_hooks"
   ]
  },
  {
   "cell_type": "code",
   "execution_count": null,
   "metadata": {},
   "outputs": [],
   "source": [
    "# Load pandas\n",
    "\n",
    "import pandas as pd\n",
    "import scrapy\n",
    "from scrapy.selector import SelectorList\n",
    "import os"
   ]
  },
  {
   "cell_type": "code",
   "execution_count": null,
   "metadata": {
    "vscode": {
     "languageId": "ruby"
    }
   },
   "outputs": [],
   "source": [
    "# Leer archivo HTML, que contiene los nombrs de las variables de nuestro dataset\n",
    "# y seleccionar las filas de la tabla\n",
    "\n",
    "ruta = './variables.html'\n",
    "doc = scrapy.Selector(\n",
    "    text=open(ruta, 'r', encoding='utf-8').read()\n",
    ")\n",
    "# Para ver la razón de por qué usar esta expresión de xpath, ver: https://devhints.io/xpath\n",
    "filas_tabla = doc.xpath(\"//div[contains(concat(' ',normalize-space(@class),' '),' searchResult ')]\")\n",
    "print(filas_tabla)"
   ]
  },
  {
   "cell_type": "code",
   "execution_count": 91,
   "metadata": {},
   "outputs": [],
   "source": [
    "\"\"\"\n",
    "La estructura de una fila de la tabla es más o menos así:\n",
    "\n",
    "<div>\n",
    "    <div>\n",
    "        <form></form>\n",
    "        <span></span>\n",
    "        <a>\n",
    "            Nombre_de_la_variable_en_dataset\n",
    "        </a>\n",
    "    </div>\n",
    "</div>\n",
    "<div>\n",
    "    <div>\n",
    "        <p>\n",
    "            <em>\n",
    "                Nombre_completo_variable\n",
    "            </em>\n",
    "        </p>\n",
    "        <p>\n",
    "            Descripción_variable\n",
    "        </p>\n",
    "    </div>\n",
    "    <div>\n",
    "    </div>\n",
    "</div>\n",
    "\"\"\"\n",
    "\n",
    "def formatear_texto(texto: str):\n",
    "\n",
    "    \"\"\"\n",
    "    Reemplaza cadenas de espacios en blanco por un solo espacio\n",
    "    y saltos de línea por un espacio.\n",
    "    \"\"\"\n",
    "\n",
    "    return ' '.join(texto.split()).replace('\\n', ' ').strip()\n",
    "\n",
    "def parsear_variables(variables: SelectorList):\n",
    "    \n",
    "    for fila in filas_tabla:\n",
    "\n",
    "        nombre_var_dataset = fila.css('a::text').get().strip()\n",
    "        nombre_var_completo = fila.css('em::text').get().strip()\n",
    "        nombre_var_completo = f'\\\"{formatear_texto(nombre_var_completo)}\\\"'\n",
    "        descripcion_var = fila.css('p')[1].css('::text').get().strip()\n",
    "        descripcion_var = f'\\\"{formatear_texto(descripcion_var)}\\\"'\n",
    "\n",
    "        yield (nombre_var_dataset, nombre_var_completo, descripcion_var)\n",
    "        "
   ]
  },
  {
   "cell_type": "code",
   "execution_count": null,
   "metadata": {},
   "outputs": [],
   "source": [
    "ruta_archivo_variables = './datasets/variables.csv'\n",
    "\n",
    "# Crea un archivo con las variables a partir del generador\n",
    "def crear_archivo_variables(variables: SelectorList):\n",
    "    \n",
    "    with open(ruta_archivo_variables, 'w') as archivo:\n",
    "\n",
    "        # Escribe el encabezado\n",
    "        archivo.write('id,nombre,desc\\n')\n",
    "\n",
    "        # Escribe las variables\n",
    "        for variable in parsear_variables(variables):\n",
    "            archivo.write(','.join(variable) + '\\n')"
   ]
  },
  {
   "cell_type": "code",
   "execution_count": 92,
   "metadata": {},
   "outputs": [],
   "source": [
    "# Crea el archivo si no existe\n",
    "if not os.path.exists(ruta_archivo_variables):\n",
    "    \n",
    "    os.makedirs(\n",
    "        os.path.dirname(\n",
    "            ruta_archivo_variables\n",
    "        ),\n",
    "        exist_ok=True\n",
    "    )\n",
    "\n",
    "# Escribe las variables en el archivo\n",
    "crear_archivo_variables(filas_tabla)"
   ]
  }
 ],
 "metadata": {
  "kernelspec": {
   "display_name": "base",
   "language": "python",
   "name": "python3"
  },
  "language_info": {
   "codemirror_mode": {
    "name": "ipython",
    "version": 3
   },
   "file_extension": ".py",
   "mimetype": "text/x-python",
   "name": "python",
   "nbconvert_exporter": "python",
   "pygments_lexer": "ipython3",
   "version": "3.11.4"
  }
 },
 "nbformat": 4,
 "nbformat_minor": 2
}
