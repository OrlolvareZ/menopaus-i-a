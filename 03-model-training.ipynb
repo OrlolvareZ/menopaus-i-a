{
 "cells": [
  {
   "cell_type": "code",
   "execution_count": 59,
   "metadata": {},
   "outputs": [],
   "source": [
    "import pandas as pd\n",
    "import numpy as np"
   ]
  },
  {
   "cell_type": "markdown",
   "metadata": {},
   "source": [
    "We'll train both a Random Forest Classifier and a K-Nearest Neighbors Classifier using our menopause data. We'll then compare the two models and see which one performs better."
   ]
  },
  {
   "cell_type": "markdown",
   "metadata": {},
   "source": [
    "# 📖 Loading codebook values"
   ]
  },
  {
   "cell_type": "markdown",
   "metadata": {},
   "source": [
    "### ℹ Reading in the data and variables to be used"
   ]
  },
  {
   "cell_type": "code",
   "execution_count": 60,
   "metadata": {},
   "outputs": [
    {
     "data": {
      "text/html": [
       "<div>\n",
       "<style scoped>\n",
       "    .dataframe tbody tr th:only-of-type {\n",
       "        vertical-align: middle;\n",
       "    }\n",
       "\n",
       "    .dataframe tbody tr th {\n",
       "        vertical-align: top;\n",
       "    }\n",
       "\n",
       "    .dataframe thead th {\n",
       "        text-align: right;\n",
       "    }\n",
       "</style>\n",
       "<table border=\"1\" class=\"dataframe\">\n",
       "  <thead>\n",
       "    <tr style=\"text-align: right;\">\n",
       "      <th></th>\n",
       "      <th>HAVEPER</th>\n",
       "      <th>EXPENSI</th>\n",
       "      <th>BROKEBO</th>\n",
       "      <th>AGE</th>\n",
       "      <th>EXERCIS</th>\n",
       "      <th>DNTKNOW</th>\n",
       "      <th>AVCIGDA</th>\n",
       "      <th>NOREASO</th>\n",
       "      <th>SIDEEFF</th>\n",
       "      <th>OSTEOPO</th>\n",
       "      <th>...</th>\n",
       "      <th>DIETNUT</th>\n",
       "      <th>LIKEFEL</th>\n",
       "      <th>COMBIN2</th>\n",
       "      <th>BONES3</th>\n",
       "      <th>PRGNANT</th>\n",
       "      <th>SMOKERE</th>\n",
       "      <th>ESTRNJ1</th>\n",
       "      <th>STOPOTH</th>\n",
       "      <th>BONES2</th>\n",
       "      <th>HOURSPA</th>\n",
       "    </tr>\n",
       "  </thead>\n",
       "  <tbody>\n",
       "    <tr>\n",
       "      <th>0</th>\n",
       "      <td>-1</td>\n",
       "      <td>-1</td>\n",
       "      <td>0</td>\n",
       "      <td>53</td>\n",
       "      <td>-9999</td>\n",
       "      <td>-1</td>\n",
       "      <td>-1</td>\n",
       "      <td>-1</td>\n",
       "      <td>-1</td>\n",
       "      <td>1</td>\n",
       "      <td>...</td>\n",
       "      <td>-9999</td>\n",
       "      <td>-1</td>\n",
       "      <td>-9999</td>\n",
       "      <td>-1</td>\n",
       "      <td>1</td>\n",
       "      <td>1</td>\n",
       "      <td>1</td>\n",
       "      <td>-1</td>\n",
       "      <td>-1</td>\n",
       "      <td>-1</td>\n",
       "    </tr>\n",
       "    <tr>\n",
       "      <th>1</th>\n",
       "      <td>-1</td>\n",
       "      <td>-1</td>\n",
       "      <td>0</td>\n",
       "      <td>52</td>\n",
       "      <td>-9999</td>\n",
       "      <td>-1</td>\n",
       "      <td>-1</td>\n",
       "      <td>-1</td>\n",
       "      <td>-1</td>\n",
       "      <td>-1</td>\n",
       "      <td>...</td>\n",
       "      <td>-9999</td>\n",
       "      <td>-1</td>\n",
       "      <td>-9999</td>\n",
       "      <td>-1</td>\n",
       "      <td>1</td>\n",
       "      <td>1</td>\n",
       "      <td>1</td>\n",
       "      <td>-1</td>\n",
       "      <td>-1</td>\n",
       "      <td>-1</td>\n",
       "    </tr>\n",
       "    <tr>\n",
       "      <th>2</th>\n",
       "      <td>-1</td>\n",
       "      <td>-1</td>\n",
       "      <td>1</td>\n",
       "      <td>46</td>\n",
       "      <td>-9999</td>\n",
       "      <td>-1</td>\n",
       "      <td>-1</td>\n",
       "      <td>-1</td>\n",
       "      <td>-1</td>\n",
       "      <td>-1</td>\n",
       "      <td>...</td>\n",
       "      <td>-9999</td>\n",
       "      <td>-1</td>\n",
       "      <td>-9999</td>\n",
       "      <td>-1</td>\n",
       "      <td>1</td>\n",
       "      <td>1</td>\n",
       "      <td>1</td>\n",
       "      <td>-1</td>\n",
       "      <td>-1</td>\n",
       "      <td>-1</td>\n",
       "    </tr>\n",
       "    <tr>\n",
       "      <th>3</th>\n",
       "      <td>-1</td>\n",
       "      <td>-1</td>\n",
       "      <td>0</td>\n",
       "      <td>50</td>\n",
       "      <td>-9999</td>\n",
       "      <td>-1</td>\n",
       "      <td>-1</td>\n",
       "      <td>-1</td>\n",
       "      <td>-1</td>\n",
       "      <td>-1</td>\n",
       "      <td>...</td>\n",
       "      <td>-9999</td>\n",
       "      <td>-1</td>\n",
       "      <td>-9999</td>\n",
       "      <td>-1</td>\n",
       "      <td>1</td>\n",
       "      <td>1</td>\n",
       "      <td>1</td>\n",
       "      <td>-1</td>\n",
       "      <td>-1</td>\n",
       "      <td>4</td>\n",
       "    </tr>\n",
       "    <tr>\n",
       "      <th>4</th>\n",
       "      <td>-1</td>\n",
       "      <td>-1</td>\n",
       "      <td>0</td>\n",
       "      <td>52</td>\n",
       "      <td>-9999</td>\n",
       "      <td>-1</td>\n",
       "      <td>-1</td>\n",
       "      <td>-1</td>\n",
       "      <td>-1</td>\n",
       "      <td>-1</td>\n",
       "      <td>...</td>\n",
       "      <td>-9999</td>\n",
       "      <td>-1</td>\n",
       "      <td>-9999</td>\n",
       "      <td>-1</td>\n",
       "      <td>1</td>\n",
       "      <td>1</td>\n",
       "      <td>1</td>\n",
       "      <td>-1</td>\n",
       "      <td>-1</td>\n",
       "      <td>-1</td>\n",
       "    </tr>\n",
       "  </tbody>\n",
       "</table>\n",
       "<p>5 rows × 64 columns</p>\n",
       "</div>"
      ],
      "text/plain": [
       "  HAVEPER EXPENSI BROKEBO AGE EXERCIS DNTKNOW AVCIGDA NOREASO SIDEEFF OSTEOPO  \\\n",
       "0      -1      -1       0  53   -9999      -1      -1      -1      -1       1   \n",
       "1      -1      -1       0  52   -9999      -1      -1      -1      -1      -1   \n",
       "2      -1      -1       1  46   -9999      -1      -1      -1      -1      -1   \n",
       "3      -1      -1       0  50   -9999      -1      -1      -1      -1      -1   \n",
       "4      -1      -1       0  52   -9999      -1      -1      -1      -1      -1   \n",
       "\n",
       "   ... DIETNUT LIKEFEL COMBIN2 BONES3 PRGNANT SMOKERE ESTRNJ1 STOPOTH BONES2  \\\n",
       "0  ...   -9999      -1   -9999     -1       1       1       1      -1     -1   \n",
       "1  ...   -9999      -1   -9999     -1       1       1       1      -1     -1   \n",
       "2  ...   -9999      -1   -9999     -1       1       1       1      -1     -1   \n",
       "3  ...   -9999      -1   -9999     -1       1       1       1      -1     -1   \n",
       "4  ...   -9999      -1   -9999     -1       1       1       1      -1     -1   \n",
       "\n",
       "  HOURSPA  \n",
       "0      -1  \n",
       "1      -1  \n",
       "2      -1  \n",
       "3       4  \n",
       "4      -1  \n",
       "\n",
       "[5 rows x 64 columns]"
      ]
     },
     "execution_count": 60,
     "metadata": {},
     "output_type": "execute_result"
    }
   ],
   "source": [
    "menopause_data = pd.read_csv('./datasets/visit_dfs.csv', dtype='str')\n",
    "menopause_data.head()"
   ]
  },
  {
   "cell_type": "code",
   "execution_count": 61,
   "metadata": {},
   "outputs": [
    {
     "data": {
      "text/plain": [
       "['MENODEP',\n",
       " 'EXERCIS',\n",
       " 'DIETNUT',\n",
       " 'OUTCOME',\n",
       " 'ESTRNJ2',\n",
       " 'COMBIN2',\n",
       " 'ESTROG2',\n",
       " 'E2AVE',\n",
       " 'ALCHL24',\n",
       " 'ESTRDA2',\n",
       " 'HOURSPA',\n",
       " 'HEIGHT',\n",
       " 'ESTRDA1',\n",
       " 'WEIGHT',\n",
       " 'HAPPY',\n",
       " 'PRGNANT',\n",
       " 'VAGINDR',\n",
       " 'SMOKERE',\n",
       " 'HOTFLAS',\n",
       " 'PHYSILL',\n",
       " 'AVCIGDA',\n",
       " 'TRBLSLE',\n",
       " 'CANCERS',\n",
       " 'DIABETE',\n",
       " 'BROKEBO',\n",
       " 'OSTEOPR',\n",
       " 'STATUS',\n",
       " 'ESTROG1',\n",
       " 'ESTRNJ1',\n",
       " 'AGE',\n",
       " 'RACE',\n",
       " 'NUMHOTF',\n",
       " 'VISIT']"
      ]
     },
     "execution_count": 61,
     "metadata": {},
     "output_type": "execute_result"
    }
   ],
   "source": [
    "with open('./lista_variables/variables_selected_final.txt', 'r') as f:\n",
    "    features = f.read().splitlines()\n",
    "\n",
    "features"
   ]
  },
  {
   "cell_type": "markdown",
   "metadata": {},
   "source": [
    "> Do note that our variables are mainly categorical, but not all of them. We'll read a JSON file to know which variables aren't categorical and we'll change them to float."
   ]
  },
  {
   "cell_type": "code",
   "execution_count": 62,
   "metadata": {},
   "outputs": [],
   "source": [
    "import json\n",
    "\n",
    "with open('./lista_variables/variables_selected_labels.json', 'r') as file:\n",
    "    features_labels = json.load(file)"
   ]
  },
  {
   "cell_type": "markdown",
   "metadata": {},
   "source": [
    "### ✅ Parsing data to correct data type"
   ]
  },
  {
   "cell_type": "code",
   "execution_count": 63,
   "metadata": {},
   "outputs": [],
   "source": [
    "integer_features = features_labels['NUMERICAL']['vars']['int']\n",
    "float_features = features_labels['NUMERICAL']['vars']['float']\n",
    "\n",
    "for feature in integer_features:\n",
    "    menopause_data[feature] = menopause_data[feature].astype(int)\n",
    "\n",
    "for feature in float_features:\n",
    "    menopause_data[feature] = menopause_data[feature].astype(float)"
   ]
  },
  {
   "cell_type": "code",
   "execution_count": 64,
   "metadata": {},
   "outputs": [
    {
     "data": {
      "text/plain": [
       "HAVEPER    object\n",
       "EXPENSI    object\n",
       "BROKEBO     int32\n",
       "AGE         int32\n",
       "EXERCIS    object\n",
       "            ...  \n",
       "SMOKERE    object\n",
       "ESTRNJ1    object\n",
       "STOPOTH    object\n",
       "BONES2     object\n",
       "HOURSPA    object\n",
       "Length: 64, dtype: object"
      ]
     },
     "execution_count": 64,
     "metadata": {},
     "output_type": "execute_result"
    }
   ],
   "source": [
    "menopause_data.dtypes"
   ]
  },
  {
   "cell_type": "markdown",
   "metadata": {},
   "source": [
    "### ✨ Pipeline for negative values in data"
   ]
  },
  {
   "cell_type": "markdown",
   "metadata": {},
   "source": [
    "In some of the variables, negative values are used to indicate missing data, or that the patient refused to answer. We'll create a pipeline to replace these negative values with NaNs,\n",
    "and we'll use KNN to impute the missing values.\n",
    "\n",
    "This will aid in standardizing the data."
   ]
  },
  {
   "cell_type": "code",
   "execution_count": 65,
   "metadata": {},
   "outputs": [],
   "source": [
    "numerical_features = integer_features + float_features\n",
    "numerical_features.remove('VISIT')\n"
   ]
  },
  {
   "cell_type": "code",
   "execution_count": 66,
   "metadata": {},
   "outputs": [],
   "source": [
    "# Set negatives as NaN\n",
    "menopause_data[numerical_features] = menopause_data[numerical_features].apply(lambda x: x.where(x > 0, np.nan))\n",
    "\n",
    "\n",
    "from sklearn.impute import KNNImputer\n",
    "\n",
    "imputer = KNNImputer(n_neighbors=5)\n",
    "\n",
    "# DONE\n",
    "# menopause_data[numerical_features] = imputer.fit_transform(menopause_data[numerical_features])"
   ]
  },
  {
   "cell_type": "code",
   "execution_count": 67,
   "metadata": {},
   "outputs": [],
   "source": [
    "menopause_data = pd.read_csv('./datasets/visit_dfs_imputed.csv')"
   ]
  },
  {
   "cell_type": "code",
   "execution_count": 69,
   "metadata": {},
   "outputs": [
    {
     "data": {
      "text/plain": [
       "AVCIGDA    0\n",
       "BROKEBO    0\n",
       "AGE        0\n",
       "NUMHOTF    0\n",
       "E2AVE      0\n",
       "HEIGHT     0\n",
       "WEIGHT     0\n",
       "dtype: int64"
      ]
     },
     "execution_count": 69,
     "metadata": {},
     "output_type": "execute_result"
    }
   ],
   "source": [
    "menopause_data[numerical_features].isna().sum()"
   ]
  },
  {
   "cell_type": "code",
   "execution_count": 70,
   "metadata": {},
   "outputs": [
    {
     "data": {
      "text/html": [
       "<div>\n",
       "<style scoped>\n",
       "    .dataframe tbody tr th:only-of-type {\n",
       "        vertical-align: middle;\n",
       "    }\n",
       "\n",
       "    .dataframe tbody tr th {\n",
       "        vertical-align: top;\n",
       "    }\n",
       "\n",
       "    .dataframe thead th {\n",
       "        text-align: right;\n",
       "    }\n",
       "</style>\n",
       "<table border=\"1\" class=\"dataframe\">\n",
       "  <thead>\n",
       "    <tr style=\"text-align: right;\">\n",
       "      <th></th>\n",
       "      <th>AVCIGDA</th>\n",
       "      <th>BROKEBO</th>\n",
       "      <th>AGE</th>\n",
       "      <th>NUMHOTF</th>\n",
       "      <th>E2AVE</th>\n",
       "      <th>HEIGHT</th>\n",
       "      <th>WEIGHT</th>\n",
       "    </tr>\n",
       "  </thead>\n",
       "  <tbody>\n",
       "    <tr>\n",
       "      <th>0</th>\n",
       "      <td>12.4</td>\n",
       "      <td>1.0</td>\n",
       "      <td>53.0</td>\n",
       "      <td>2.8</td>\n",
       "      <td>70.15</td>\n",
       "      <td>155.4</td>\n",
       "      <td>74.0</td>\n",
       "    </tr>\n",
       "    <tr>\n",
       "      <th>1</th>\n",
       "      <td>20.4</td>\n",
       "      <td>1.0</td>\n",
       "      <td>52.0</td>\n",
       "      <td>2.8</td>\n",
       "      <td>194.55</td>\n",
       "      <td>161.3</td>\n",
       "      <td>53.2</td>\n",
       "    </tr>\n",
       "    <tr>\n",
       "      <th>2</th>\n",
       "      <td>12.2</td>\n",
       "      <td>1.0</td>\n",
       "      <td>46.0</td>\n",
       "      <td>1.8</td>\n",
       "      <td>250.65</td>\n",
       "      <td>166.1</td>\n",
       "      <td>85.6</td>\n",
       "    </tr>\n",
       "    <tr>\n",
       "      <th>3</th>\n",
       "      <td>17.8</td>\n",
       "      <td>1.0</td>\n",
       "      <td>50.0</td>\n",
       "      <td>2.8</td>\n",
       "      <td>187.95</td>\n",
       "      <td>161.5</td>\n",
       "      <td>78.4</td>\n",
       "    </tr>\n",
       "    <tr>\n",
       "      <th>4</th>\n",
       "      <td>13.2</td>\n",
       "      <td>1.0</td>\n",
       "      <td>52.0</td>\n",
       "      <td>2.2</td>\n",
       "      <td>119.50</td>\n",
       "      <td>149.5</td>\n",
       "      <td>68.0</td>\n",
       "    </tr>\n",
       "  </tbody>\n",
       "</table>\n",
       "</div>"
      ],
      "text/plain": [
       "   AVCIGDA  BROKEBO   AGE  NUMHOTF   E2AVE  HEIGHT  WEIGHT\n",
       "0     12.4      1.0  53.0      2.8   70.15   155.4    74.0\n",
       "1     20.4      1.0  52.0      2.8  194.55   161.3    53.2\n",
       "2     12.2      1.0  46.0      1.8  250.65   166.1    85.6\n",
       "3     17.8      1.0  50.0      2.8  187.95   161.5    78.4\n",
       "4     13.2      1.0  52.0      2.2  119.50   149.5    68.0"
      ]
     },
     "execution_count": 70,
     "metadata": {},
     "output_type": "execute_result"
    }
   ],
   "source": [
    "menopause_data[numerical_features].head()"
   ]
  },
  {
   "cell_type": "code",
   "execution_count": 71,
   "metadata": {},
   "outputs": [],
   "source": [
    "# Save dataset\n",
    "# DONE\n",
    "# menopause_data.to_csv('./datasets/visit_dfs_imputed.csv', index=True)"
   ]
  },
  {
   "cell_type": "markdown",
   "metadata": {},
   "source": [
    "# 🧠 Model training!"
   ]
  },
  {
   "cell_type": "code",
   "execution_count": null,
   "metadata": {},
   "outputs": [],
   "source": [
    "from sklearn.multioutput import MultiOutputClassifier\n",
    "from sklearn.ensemble import RandomForestClassifier\n",
    "from sklearn.neighbors import KNeighborsClassifier\n",
    "from sklearn.utils import shuffle\n",
    "from sklearn.preprocessing import StandardScaler\n",
    "from sklearn.model_selection import RepeatedKFold\n",
    "from sklearn.model_selection import cross_val_score\n",
    "from sklearn.metrics import classification_report, confusion_matrix, accuracy_score\n",
    "\n",
    "from mlflow import log_metric, log_param, log_artifact, start_run\n"
   ]
  },
  {
   "cell_type": "code",
   "execution_count": null,
   "metadata": {},
   "outputs": [],
   "source": [
    "targets = [\n",
    "    'STATUS',    # Indicating if the patient is menopausal or not, among other options\n",
    "    'NUMHOTF',  # Number of hot flashes daily\n",
    "    'OSTEOPR',  # Indicating if the patient has osteoporosis or not\n",
    "    'MENODEP',  # Indicating if the patient has depression or not\n",
    "]"
   ]
  },
  {
   "cell_type": "code",
   "execution_count": null,
   "metadata": {},
   "outputs": [],
   "source": [
    "# Shuffle order to avoid order bias\n",
    "menopause_data = shuffle(menopause_data)\n"
   ]
  },
  {
   "cell_type": "code",
   "execution_count": null,
   "metadata": {},
   "outputs": [],
   "source": [
    "# Standardize numerical features\n",
    "scaler = StandardScaler()\n",
    "# menopause_data[numerical_features] = scaler.fit_transform(menopause_data[numerical_features])\n",
    "menopause_data[numerical_features].head()"
   ]
  },
  {
   "cell_type": "code",
   "execution_count": null,
   "metadata": {},
   "outputs": [],
   "source": [
    "# Divide data into train and test, but only for the KNN model,\n",
    "# since RF does the bootstraping datasaet itself\n",
    "\n",
    "\"\"\" X_train, X_test, y_train, y_test = train_test_split(\n",
    "    \n",
    ") \"\"\"\n",
    "\n"
   ]
  }
 ],
 "metadata": {
  "kernelspec": {
   "display_name": "base",
   "language": "python",
   "name": "python3"
  },
  "language_info": {
   "codemirror_mode": {
    "name": "ipython",
    "version": 3
   },
   "file_extension": ".py",
   "mimetype": "text/x-python",
   "name": "python",
   "nbconvert_exporter": "python",
   "pygments_lexer": "ipython3",
   "version": "3.11.4"
  }
 },
 "nbformat": 4,
 "nbformat_minor": 2
}
