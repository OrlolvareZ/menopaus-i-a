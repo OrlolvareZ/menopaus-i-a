{
 "cells": [
  {
   "cell_type": "code",
   "execution_count": null,
   "metadata": {},
   "outputs": [],
   "source": [
    "import pandas as pd\n",
    "import numpy as np"
   ]
  },
  {
   "cell_type": "markdown",
   "metadata": {},
   "source": [
    "We'll train both a Random Forest Classifier and a K-Nearest Neighbors Classifier using our menopause data. We'll then compare the two models and see which one performs better."
   ]
  },
  {
   "cell_type": "markdown",
   "metadata": {},
   "source": [
    "# 📖 Loading codebook values"
   ]
  },
  {
   "cell_type": "markdown",
   "metadata": {},
   "source": [
    "### ℹ Reading in the data and variables to be used"
   ]
  },
  {
   "cell_type": "code",
   "execution_count": null,
   "metadata": {},
   "outputs": [],
   "source": [
    "menopause_data = pd.read_csv('./datasets/visit_dfs.csv', dtype='str')\n",
    "menopause_data.head()"
   ]
  },
  {
   "cell_type": "code",
   "execution_count": null,
   "metadata": {},
   "outputs": [],
   "source": [
    "with open('./lista_variables/variables_selected_final.txt', 'r') as f:\n",
    "    features = f.read().splitlines()\n",
    "\n",
    "features"
   ]
  },
  {
   "cell_type": "markdown",
   "metadata": {},
   "source": [
    "> Do note that our variables are mainly categorical, but not all of them. We'll read a JSON file to know which variables aren't categorical and we'll change them to float."
   ]
  },
  {
   "cell_type": "code",
   "execution_count": null,
   "metadata": {},
   "outputs": [],
   "source": [
    "import json\n",
    "\n",
    "with open('./lista_variables/variables_selected_labels.json', 'r') as file:\n",
    "    features_labels = json.load(file)"
   ]
  },
  {
   "cell_type": "markdown",
   "metadata": {},
   "source": [
    "### ✅ Parsing data to correct data type"
   ]
  },
  {
   "cell_type": "code",
   "execution_count": null,
   "metadata": {},
   "outputs": [],
   "source": [
    "integer_features = features_labels['NUMERICAL']['vars']['int']\n",
    "float_features = features_labels['NUMERICAL']['vars']['float']\n",
    "\n",
    "for feature in integer_features:\n",
    "    menopause_data[feature] = menopause_data[feature].astype(int)\n",
    "\n",
    "for feature in float_features:\n",
    "    menopause_data[feature] = menopause_data[feature].astype(float)"
   ]
  },
  {
   "cell_type": "code",
   "execution_count": null,
   "metadata": {},
   "outputs": [],
   "source": [
    "menopause_data.dtypes"
   ]
  },
  {
   "cell_type": "markdown",
   "metadata": {},
   "source": [
    "### ✨ Pipeline for negative values in data"
   ]
  },
  {
   "cell_type": "markdown",
   "metadata": {},
   "source": [
    "In some of the variables, negative values are used to indicate missing data, or that the patient refused to answer. We'll create a pipeline to replace these negative values with NaNs,\n",
    "and we'll use KNN to impute the missing values.\n",
    "\n",
    "This will aid in standardizing the data."
   ]
  },
  {
   "cell_type": "code",
   "execution_count": null,
   "metadata": {},
   "outputs": [],
   "source": [
    "numerical_features = integer_features + float_features\n",
    "numerical_features.remove('VISIT')\n"
   ]
  },
  {
   "cell_type": "code",
   "execution_count": null,
   "metadata": {},
   "outputs": [],
   "source": [
    "# Set negatives as NaN\n",
    "menopause_data[numerical_features] = menopause_data[numerical_features].apply(lambda x: x.where(x > 0, np.nan))\n",
    "\n",
    "\n",
    "from sklearn.impute import KNNImputer\n",
    "\n",
    "imputer = KNNImputer(n_neighbors=5)\n",
    "\n",
    "# DONE\n",
    "# menopause_data[numerical_features] = imputer.fit_transform(menopause_data[numerical_features])"
   ]
  },
  {
   "cell_type": "code",
   "execution_count": null,
   "metadata": {},
   "outputs": [],
   "source": [
    "menopause_data = pd.read_csv('./datasets/visit_dfs_imputed.csv')"
   ]
  },
  {
   "cell_type": "code",
   "execution_count": null,
   "metadata": {},
   "outputs": [],
   "source": [
    "menopause_data[numerical_features].isna().sum()"
   ]
  },
  {
   "cell_type": "code",
   "execution_count": null,
   "metadata": {},
   "outputs": [],
   "source": [
    "menopause_data[numerical_features].head()"
   ]
  },
  {
   "cell_type": "code",
   "execution_count": null,
   "metadata": {},
   "outputs": [],
   "source": [
    "# Save dataset\n",
    "# DONE\n",
    "# menopause_data.to_csv('./datasets/visit_dfs_imputed.csv', index=True)"
   ]
  },
  {
   "cell_type": "markdown",
   "metadata": {},
   "source": [
    "# 🧠 Model training!"
   ]
  },
  {
   "cell_type": "code",
   "execution_count": 81,
   "metadata": {},
   "outputs": [],
   "source": [
    "from sklearn.multioutput import MultiOutputClassifier\n",
    "from sklearn.ensemble import RandomForestClassifier\n",
    "from sklearn.neighbors import KNeighborsClassifier\n",
    "from sklearn.utils import shuffle\n",
    "from sklearn.preprocessing import MinMaxScaler\n",
    "from sklearn.model_selection import RepeatedKFold\n",
    "from sklearn.model_selection import cross_val_score\n",
    "from sklearn.metrics import classification_report, confusion_matrix, accuracy_score\n",
    "\n",
    "from mlflow import log_metric, log_param, log_artifact, start_run\n"
   ]
  },
  {
   "cell_type": "code",
   "execution_count": null,
   "metadata": {},
   "outputs": [],
   "source": [
    "targets = [\n",
    "    'STATUS',    # Indicating if the patient is menopausal or not, among other options\n",
    "    'NUMHOTF',  # Number of hot flashes daily\n",
    "    'OSTEOPR',  # Indicating if the patient has osteoporosis or not\n",
    "    'MENODEP',  # Indicating if the patient has depression or not\n",
    "]"
   ]
  },
  {
   "cell_type": "code",
   "execution_count": null,
   "metadata": {},
   "outputs": [],
   "source": [
    "# Shuffle order to avoid order bias\n",
    "menopause_data = shuffle(menopause_data)\n"
   ]
  },
  {
   "cell_type": "code",
   "execution_count": 82,
   "metadata": {},
   "outputs": [
    {
     "data": {
      "text/html": [
       "<div>\n",
       "<style scoped>\n",
       "    .dataframe tbody tr th:only-of-type {\n",
       "        vertical-align: middle;\n",
       "    }\n",
       "\n",
       "    .dataframe tbody tr th {\n",
       "        vertical-align: top;\n",
       "    }\n",
       "\n",
       "    .dataframe thead th {\n",
       "        text-align: right;\n",
       "    }\n",
       "</style>\n",
       "<table border=\"1\" class=\"dataframe\">\n",
       "  <thead>\n",
       "    <tr style=\"text-align: right;\">\n",
       "      <th></th>\n",
       "      <th>HAVEPER</th>\n",
       "      <th>EXPENSI</th>\n",
       "      <th>BROKEBO</th>\n",
       "      <th>AGE</th>\n",
       "      <th>EXERCIS</th>\n",
       "      <th>DNTKNOW</th>\n",
       "      <th>AVCIGDA</th>\n",
       "      <th>NOREASO</th>\n",
       "      <th>SIDEEFF</th>\n",
       "      <th>OSTEOPO</th>\n",
       "      <th>...</th>\n",
       "      <th>DIETNUT</th>\n",
       "      <th>LIKEFEL</th>\n",
       "      <th>COMBIN2</th>\n",
       "      <th>BONES3</th>\n",
       "      <th>PRGNANT</th>\n",
       "      <th>SMOKERE</th>\n",
       "      <th>ESTRNJ1</th>\n",
       "      <th>STOPOTH</th>\n",
       "      <th>BONES2</th>\n",
       "      <th>HOURSPA</th>\n",
       "    </tr>\n",
       "  </thead>\n",
       "  <tbody>\n",
       "    <tr>\n",
       "      <th>16079</th>\n",
       "      <td>-1</td>\n",
       "      <td>-1</td>\n",
       "      <td>1.0</td>\n",
       "      <td>54.0</td>\n",
       "      <td>2</td>\n",
       "      <td>-1</td>\n",
       "      <td>20.0</td>\n",
       "      <td>-1</td>\n",
       "      <td>-1</td>\n",
       "      <td>-1</td>\n",
       "      <td>...</td>\n",
       "      <td>1</td>\n",
       "      <td>-1</td>\n",
       "      <td>1</td>\n",
       "      <td>-1</td>\n",
       "      <td>1</td>\n",
       "      <td>2</td>\n",
       "      <td>1</td>\n",
       "      <td>-1</td>\n",
       "      <td>-1</td>\n",
       "      <td>-1</td>\n",
       "    </tr>\n",
       "    <tr>\n",
       "      <th>19647</th>\n",
       "      <td>-1</td>\n",
       "      <td>-1</td>\n",
       "      <td>1.2</td>\n",
       "      <td>56.0</td>\n",
       "      <td>-9999</td>\n",
       "      <td>-9999</td>\n",
       "      <td>7.0</td>\n",
       "      <td>-9999</td>\n",
       "      <td>-1</td>\n",
       "      <td>-1</td>\n",
       "      <td>...</td>\n",
       "      <td>-9999</td>\n",
       "      <td>-1</td>\n",
       "      <td>-1</td>\n",
       "      <td>-9999</td>\n",
       "      <td>-9999</td>\n",
       "      <td>1</td>\n",
       "      <td>1</td>\n",
       "      <td>-1</td>\n",
       "      <td>-9999</td>\n",
       "      <td>-9999</td>\n",
       "    </tr>\n",
       "    <tr>\n",
       "      <th>2100</th>\n",
       "      <td>-1</td>\n",
       "      <td>-1</td>\n",
       "      <td>1.2</td>\n",
       "      <td>47.0</td>\n",
       "      <td>-9999</td>\n",
       "      <td>-1</td>\n",
       "      <td>9.6</td>\n",
       "      <td>-1</td>\n",
       "      <td>-1</td>\n",
       "      <td>-1</td>\n",
       "      <td>...</td>\n",
       "      <td>-9999</td>\n",
       "      <td>-1</td>\n",
       "      <td>-9999</td>\n",
       "      <td>-1</td>\n",
       "      <td>1</td>\n",
       "      <td>1</td>\n",
       "      <td>1</td>\n",
       "      <td>-1</td>\n",
       "      <td>-1</td>\n",
       "      <td>4</td>\n",
       "    </tr>\n",
       "    <tr>\n",
       "      <th>15252</th>\n",
       "      <td>-1</td>\n",
       "      <td>-1</td>\n",
       "      <td>1.0</td>\n",
       "      <td>58.0</td>\n",
       "      <td>2</td>\n",
       "      <td>-1</td>\n",
       "      <td>13.6</td>\n",
       "      <td>-1</td>\n",
       "      <td>-1</td>\n",
       "      <td>-1</td>\n",
       "      <td>...</td>\n",
       "      <td>2</td>\n",
       "      <td>-1</td>\n",
       "      <td>-1</td>\n",
       "      <td>-1</td>\n",
       "      <td>1</td>\n",
       "      <td>1</td>\n",
       "      <td>1</td>\n",
       "      <td>-1</td>\n",
       "      <td>-1</td>\n",
       "      <td>4</td>\n",
       "    </tr>\n",
       "    <tr>\n",
       "      <th>10304</th>\n",
       "      <td>-1</td>\n",
       "      <td>-1</td>\n",
       "      <td>1.0</td>\n",
       "      <td>51.0</td>\n",
       "      <td>-9999</td>\n",
       "      <td>-1</td>\n",
       "      <td>11.4</td>\n",
       "      <td>-1</td>\n",
       "      <td>-1</td>\n",
       "      <td>-1</td>\n",
       "      <td>...</td>\n",
       "      <td>-9999</td>\n",
       "      <td>-1</td>\n",
       "      <td>-1</td>\n",
       "      <td>-1</td>\n",
       "      <td>1</td>\n",
       "      <td>1</td>\n",
       "      <td>1</td>\n",
       "      <td>-1</td>\n",
       "      <td>-1</td>\n",
       "      <td>5</td>\n",
       "    </tr>\n",
       "  </tbody>\n",
       "</table>\n",
       "<p>5 rows × 64 columns</p>\n",
       "</div>"
      ],
      "text/plain": [
       "      HAVEPER EXPENSI  BROKEBO   AGE EXERCIS DNTKNOW  AVCIGDA NOREASO SIDEEFF  \\\n",
       "16079      -1      -1      1.0  54.0       2      -1     20.0      -1      -1   \n",
       "19647      -1      -1      1.2  56.0   -9999   -9999      7.0   -9999      -1   \n",
       "2100       -1      -1      1.2  47.0   -9999      -1      9.6      -1      -1   \n",
       "15252      -1      -1      1.0  58.0       2      -1     13.6      -1      -1   \n",
       "10304      -1      -1      1.0  51.0   -9999      -1     11.4      -1      -1   \n",
       "\n",
       "      OSTEOPO  ... DIETNUT LIKEFEL COMBIN2 BONES3 PRGNANT SMOKERE ESTRNJ1  \\\n",
       "16079      -1  ...       1      -1       1     -1       1       2       1   \n",
       "19647      -1  ...   -9999      -1      -1  -9999   -9999       1       1   \n",
       "2100       -1  ...   -9999      -1   -9999     -1       1       1       1   \n",
       "15252      -1  ...       2      -1      -1     -1       1       1       1   \n",
       "10304      -1  ...   -9999      -1      -1     -1       1       1       1   \n",
       "\n",
       "      STOPOTH BONES2 HOURSPA  \n",
       "16079      -1     -1      -1  \n",
       "19647      -1  -9999   -9999  \n",
       "2100       -1     -1       4  \n",
       "15252      -1     -1       4  \n",
       "10304      -1     -1       5  \n",
       "\n",
       "[5 rows x 64 columns]"
      ]
     },
     "execution_count": 82,
     "metadata": {},
     "output_type": "execute_result"
    }
   ],
   "source": [
    "# Standardize numerical features\n",
    "scaler = MinMaxScaler()\n",
    "std_menp_data = menopause_data.copy()\n",
    "std_menp_data.head()"
   ]
  },
  {
   "cell_type": "code",
   "execution_count": 83,
   "metadata": {},
   "outputs": [
    {
     "data": {
      "text/html": [
       "<div>\n",
       "<style scoped>\n",
       "    .dataframe tbody tr th:only-of-type {\n",
       "        vertical-align: middle;\n",
       "    }\n",
       "\n",
       "    .dataframe tbody tr th {\n",
       "        vertical-align: top;\n",
       "    }\n",
       "\n",
       "    .dataframe thead th {\n",
       "        text-align: right;\n",
       "    }\n",
       "</style>\n",
       "<table border=\"1\" class=\"dataframe\">\n",
       "  <thead>\n",
       "    <tr style=\"text-align: right;\">\n",
       "      <th></th>\n",
       "      <th>AVCIGDA</th>\n",
       "      <th>BROKEBO</th>\n",
       "      <th>AGE</th>\n",
       "      <th>NUMHOTF</th>\n",
       "      <th>E2AVE</th>\n",
       "      <th>HEIGHT</th>\n",
       "      <th>WEIGHT</th>\n",
       "    </tr>\n",
       "  </thead>\n",
       "  <tbody>\n",
       "    <tr>\n",
       "      <th>16079</th>\n",
       "      <td>0.322034</td>\n",
       "      <td>0.000000</td>\n",
       "      <td>0.545455</td>\n",
       "      <td>0.006030</td>\n",
       "      <td>0.004782</td>\n",
       "      <td>0.424914</td>\n",
       "      <td>0.199192</td>\n",
       "    </tr>\n",
       "    <tr>\n",
       "      <th>19647</th>\n",
       "      <td>0.101695</td>\n",
       "      <td>0.066667</td>\n",
       "      <td>0.636364</td>\n",
       "      <td>0.008040</td>\n",
       "      <td>0.005786</td>\n",
       "      <td>0.457394</td>\n",
       "      <td>0.266051</td>\n",
       "    </tr>\n",
       "    <tr>\n",
       "      <th>2100</th>\n",
       "      <td>0.145763</td>\n",
       "      <td>0.066667</td>\n",
       "      <td>0.227273</td>\n",
       "      <td>0.006030</td>\n",
       "      <td>0.025905</td>\n",
       "      <td>0.440199</td>\n",
       "      <td>0.248268</td>\n",
       "    </tr>\n",
       "    <tr>\n",
       "      <th>15252</th>\n",
       "      <td>0.213559</td>\n",
       "      <td>0.000000</td>\n",
       "      <td>0.727273</td>\n",
       "      <td>0.013065</td>\n",
       "      <td>0.002226</td>\n",
       "      <td>0.249140</td>\n",
       "      <td>0.042148</td>\n",
       "    </tr>\n",
       "    <tr>\n",
       "      <th>10304</th>\n",
       "      <td>0.176271</td>\n",
       "      <td>0.000000</td>\n",
       "      <td>0.409091</td>\n",
       "      <td>0.015075</td>\n",
       "      <td>0.003642</td>\n",
       "      <td>0.364157</td>\n",
       "      <td>0.196137</td>\n",
       "    </tr>\n",
       "  </tbody>\n",
       "</table>\n",
       "</div>"
      ],
      "text/plain": [
       "        AVCIGDA   BROKEBO       AGE   NUMHOTF     E2AVE    HEIGHT    WEIGHT\n",
       "16079  0.322034  0.000000  0.545455  0.006030  0.004782  0.424914  0.199192\n",
       "19647  0.101695  0.066667  0.636364  0.008040  0.005786  0.457394  0.266051\n",
       "2100   0.145763  0.066667  0.227273  0.006030  0.025905  0.440199  0.248268\n",
       "15252  0.213559  0.000000  0.727273  0.013065  0.002226  0.249140  0.042148\n",
       "10304  0.176271  0.000000  0.409091  0.015075  0.003642  0.364157  0.196137"
      ]
     },
     "execution_count": 83,
     "metadata": {},
     "output_type": "execute_result"
    }
   ],
   "source": [
    "std_menp_data[numerical_features] = scaler.fit_transform(menopause_data[numerical_features])\n",
    "std_menp_data[numerical_features].head()"
   ]
  },
  {
   "cell_type": "code",
   "execution_count": null,
   "metadata": {},
   "outputs": [],
   "source": [
    "# Divide data into train and test, but only for the KNN model,\n",
    "# since RF does the bootstraping datasaet itself\n",
    "\n",
    "\"\"\" X_train, X_test, y_train, y_test = train_test_split(\n",
    "    \n",
    ") \"\"\"\n",
    "\n"
   ]
  }
 ],
 "metadata": {
  "kernelspec": {
   "display_name": "base",
   "language": "python",
   "name": "python3"
  },
  "language_info": {
   "codemirror_mode": {
    "name": "ipython",
    "version": 3
   },
   "file_extension": ".py",
   "mimetype": "text/x-python",
   "name": "python",
   "nbconvert_exporter": "python",
   "pygments_lexer": "ipython3",
   "version": "3.11.4"
  }
 },
 "nbformat": 4,
 "nbformat_minor": 2
}
