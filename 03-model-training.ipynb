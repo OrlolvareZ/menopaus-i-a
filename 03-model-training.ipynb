{
 "cells": [
  {
   "cell_type": "code",
   "execution_count": 1,
   "metadata": {},
   "outputs": [],
   "source": [
    "import pandas as pd\n",
    "import numpy as np"
   ]
  },
  {
   "cell_type": "markdown",
   "metadata": {},
   "source": [
    "We'll train both a Random Forest Classifier and a K-Nearest Neighbors Classifier using our menopause data. We'll then compare the two models and see which one performs better."
   ]
  },
  {
   "cell_type": "markdown",
   "metadata": {},
   "source": [
    "# 📖 Loading codebook values"
   ]
  },
  {
   "cell_type": "markdown",
   "metadata": {},
   "source": [
    "### ℹ Reading in the data and variables to be used"
   ]
  },
  {
   "cell_type": "code",
   "execution_count": 2,
   "metadata": {},
   "outputs": [
    {
     "data": {
      "text/html": [
       "<div>\n",
       "<style scoped>\n",
       "    .dataframe tbody tr th:only-of-type {\n",
       "        vertical-align: middle;\n",
       "    }\n",
       "\n",
       "    .dataframe tbody tr th {\n",
       "        vertical-align: top;\n",
       "    }\n",
       "\n",
       "    .dataframe thead th {\n",
       "        text-align: right;\n",
       "    }\n",
       "</style>\n",
       "<table border=\"1\" class=\"dataframe\">\n",
       "  <thead>\n",
       "    <tr style=\"text-align: right;\">\n",
       "      <th></th>\n",
       "      <th>HAVEPER</th>\n",
       "      <th>EXPENSI</th>\n",
       "      <th>BROKEBO</th>\n",
       "      <th>AGE</th>\n",
       "      <th>EXERCIS</th>\n",
       "      <th>DNTKNOW</th>\n",
       "      <th>AVCIGDA</th>\n",
       "      <th>NOREASO</th>\n",
       "      <th>SIDEEFF</th>\n",
       "      <th>OSTEOPO</th>\n",
       "      <th>...</th>\n",
       "      <th>DIETNUT</th>\n",
       "      <th>LIKEFEL</th>\n",
       "      <th>COMBIN2</th>\n",
       "      <th>BONES3</th>\n",
       "      <th>PRGNANT</th>\n",
       "      <th>SMOKERE</th>\n",
       "      <th>ESTRNJ1</th>\n",
       "      <th>STOPOTH</th>\n",
       "      <th>BONES2</th>\n",
       "      <th>HOURSPA</th>\n",
       "    </tr>\n",
       "  </thead>\n",
       "  <tbody>\n",
       "    <tr>\n",
       "      <th>0</th>\n",
       "      <td>-1</td>\n",
       "      <td>-1</td>\n",
       "      <td>0</td>\n",
       "      <td>53</td>\n",
       "      <td>-9999</td>\n",
       "      <td>-1</td>\n",
       "      <td>-1</td>\n",
       "      <td>-1</td>\n",
       "      <td>-1</td>\n",
       "      <td>1</td>\n",
       "      <td>...</td>\n",
       "      <td>-9999</td>\n",
       "      <td>-1</td>\n",
       "      <td>-9999</td>\n",
       "      <td>-1</td>\n",
       "      <td>1</td>\n",
       "      <td>1</td>\n",
       "      <td>1</td>\n",
       "      <td>-1</td>\n",
       "      <td>-1</td>\n",
       "      <td>-1</td>\n",
       "    </tr>\n",
       "    <tr>\n",
       "      <th>1</th>\n",
       "      <td>-1</td>\n",
       "      <td>-1</td>\n",
       "      <td>0</td>\n",
       "      <td>52</td>\n",
       "      <td>-9999</td>\n",
       "      <td>-1</td>\n",
       "      <td>-1</td>\n",
       "      <td>-1</td>\n",
       "      <td>-1</td>\n",
       "      <td>-1</td>\n",
       "      <td>...</td>\n",
       "      <td>-9999</td>\n",
       "      <td>-1</td>\n",
       "      <td>-9999</td>\n",
       "      <td>-1</td>\n",
       "      <td>1</td>\n",
       "      <td>1</td>\n",
       "      <td>1</td>\n",
       "      <td>-1</td>\n",
       "      <td>-1</td>\n",
       "      <td>-1</td>\n",
       "    </tr>\n",
       "    <tr>\n",
       "      <th>2</th>\n",
       "      <td>-1</td>\n",
       "      <td>-1</td>\n",
       "      <td>1</td>\n",
       "      <td>46</td>\n",
       "      <td>-9999</td>\n",
       "      <td>-1</td>\n",
       "      <td>-1</td>\n",
       "      <td>-1</td>\n",
       "      <td>-1</td>\n",
       "      <td>-1</td>\n",
       "      <td>...</td>\n",
       "      <td>-9999</td>\n",
       "      <td>-1</td>\n",
       "      <td>-9999</td>\n",
       "      <td>-1</td>\n",
       "      <td>1</td>\n",
       "      <td>1</td>\n",
       "      <td>1</td>\n",
       "      <td>-1</td>\n",
       "      <td>-1</td>\n",
       "      <td>-1</td>\n",
       "    </tr>\n",
       "    <tr>\n",
       "      <th>3</th>\n",
       "      <td>-1</td>\n",
       "      <td>-1</td>\n",
       "      <td>0</td>\n",
       "      <td>50</td>\n",
       "      <td>-9999</td>\n",
       "      <td>-1</td>\n",
       "      <td>-1</td>\n",
       "      <td>-1</td>\n",
       "      <td>-1</td>\n",
       "      <td>-1</td>\n",
       "      <td>...</td>\n",
       "      <td>-9999</td>\n",
       "      <td>-1</td>\n",
       "      <td>-9999</td>\n",
       "      <td>-1</td>\n",
       "      <td>1</td>\n",
       "      <td>1</td>\n",
       "      <td>1</td>\n",
       "      <td>-1</td>\n",
       "      <td>-1</td>\n",
       "      <td>4</td>\n",
       "    </tr>\n",
       "    <tr>\n",
       "      <th>4</th>\n",
       "      <td>-1</td>\n",
       "      <td>-1</td>\n",
       "      <td>0</td>\n",
       "      <td>52</td>\n",
       "      <td>-9999</td>\n",
       "      <td>-1</td>\n",
       "      <td>-1</td>\n",
       "      <td>-1</td>\n",
       "      <td>-1</td>\n",
       "      <td>-1</td>\n",
       "      <td>...</td>\n",
       "      <td>-9999</td>\n",
       "      <td>-1</td>\n",
       "      <td>-9999</td>\n",
       "      <td>-1</td>\n",
       "      <td>1</td>\n",
       "      <td>1</td>\n",
       "      <td>1</td>\n",
       "      <td>-1</td>\n",
       "      <td>-1</td>\n",
       "      <td>-1</td>\n",
       "    </tr>\n",
       "  </tbody>\n",
       "</table>\n",
       "<p>5 rows × 64 columns</p>\n",
       "</div>"
      ],
      "text/plain": [
       "  HAVEPER EXPENSI BROKEBO AGE EXERCIS DNTKNOW AVCIGDA NOREASO SIDEEFF OSTEOPO  \\\n",
       "0      -1      -1       0  53   -9999      -1      -1      -1      -1       1   \n",
       "1      -1      -1       0  52   -9999      -1      -1      -1      -1      -1   \n",
       "2      -1      -1       1  46   -9999      -1      -1      -1      -1      -1   \n",
       "3      -1      -1       0  50   -9999      -1      -1      -1      -1      -1   \n",
       "4      -1      -1       0  52   -9999      -1      -1      -1      -1      -1   \n",
       "\n",
       "   ... DIETNUT LIKEFEL COMBIN2 BONES3 PRGNANT SMOKERE ESTRNJ1 STOPOTH BONES2  \\\n",
       "0  ...   -9999      -1   -9999     -1       1       1       1      -1     -1   \n",
       "1  ...   -9999      -1   -9999     -1       1       1       1      -1     -1   \n",
       "2  ...   -9999      -1   -9999     -1       1       1       1      -1     -1   \n",
       "3  ...   -9999      -1   -9999     -1       1       1       1      -1     -1   \n",
       "4  ...   -9999      -1   -9999     -1       1       1       1      -1     -1   \n",
       "\n",
       "  HOURSPA  \n",
       "0      -1  \n",
       "1      -1  \n",
       "2      -1  \n",
       "3       4  \n",
       "4      -1  \n",
       "\n",
       "[5 rows x 64 columns]"
      ]
     },
     "execution_count": 2,
     "metadata": {},
     "output_type": "execute_result"
    }
   ],
   "source": [
    "menopause_data = pd.read_csv('./datasets/visit_dfs.csv', dtype='str')\n",
    "menopause_data.head()"
   ]
  },
  {
   "cell_type": "code",
   "execution_count": 3,
   "metadata": {},
   "outputs": [
    {
     "data": {
      "text/plain": [
       "['MENODEP',\n",
       " 'EXERCIS',\n",
       " 'DIETNUT',\n",
       " 'OUTCOME',\n",
       " 'ESTRNJ2',\n",
       " 'COMBIN2',\n",
       " 'ESTROG2',\n",
       " 'E2AVE',\n",
       " 'ALCHL24',\n",
       " 'ESTRDA2',\n",
       " 'HOURSPA',\n",
       " 'HEIGHT',\n",
       " 'ESTRDA1',\n",
       " 'WEIGHT',\n",
       " 'HAPPY',\n",
       " 'PRGNANT',\n",
       " 'VAGINDR',\n",
       " 'SMOKERE',\n",
       " 'HOTFLAS',\n",
       " 'PHYSILL',\n",
       " 'AVCIGDA',\n",
       " 'TRBLSLE',\n",
       " 'CANCERS',\n",
       " 'DIABETE',\n",
       " 'BROKEBO',\n",
       " 'OSTEOPR',\n",
       " 'STATUS',\n",
       " 'ESTROG1',\n",
       " 'ESTRNJ1',\n",
       " 'AGE',\n",
       " 'RACE',\n",
       " 'NUMHOTF',\n",
       " 'VISIT']"
      ]
     },
     "execution_count": 3,
     "metadata": {},
     "output_type": "execute_result"
    }
   ],
   "source": [
    "with open('./lista_variables/variables_selected_final.txt', 'r') as f:\n",
    "    features = f.read().splitlines()\n",
    "\n",
    "features"
   ]
  },
  {
   "cell_type": "markdown",
   "metadata": {},
   "source": [
    "> Do note that our variables are mainly categorical, but not all of them. We'll read a JSON file to know which variables aren't categorical and we'll change them to float."
   ]
  },
  {
   "cell_type": "code",
   "execution_count": 4,
   "metadata": {},
   "outputs": [],
   "source": [
    "menopause_data = menopause_data[features]"
   ]
  },
  {
   "cell_type": "code",
   "execution_count": 5,
   "metadata": {},
   "outputs": [],
   "source": [
    "import json\n",
    "\n",
    "with open('./lista_variables/variables_selected_labels.json', 'r') as file:\n",
    "    features_labels = json.load(file)"
   ]
  },
  {
   "cell_type": "markdown",
   "metadata": {},
   "source": [
    "### ✅ Parsing data to correct data type"
   ]
  },
  {
   "cell_type": "code",
   "execution_count": 6,
   "metadata": {},
   "outputs": [],
   "source": [
    "integer_features = features_labels['NUMERICAL']['vars']['int']\n",
    "float_features = features_labels['NUMERICAL']['vars']['float']\n",
    "\n",
    "def parse_numbers():\n",
    "\n",
    "    for feature in integer_features:\n",
    "        menopause_data[feature] = menopause_data[feature].astype(int)\n",
    "\n",
    "    for feature in float_features:\n",
    "        menopause_data[feature] = menopause_data[feature].astype(float)"
   ]
  },
  {
   "cell_type": "code",
   "execution_count": 7,
   "metadata": {},
   "outputs": [
    {
     "data": {
      "text/plain": [
       "MENODEP     object\n",
       "EXERCIS     object\n",
       "DIETNUT     object\n",
       "OUTCOME     object\n",
       "ESTRNJ2     object\n",
       "COMBIN2     object\n",
       "ESTROG2     object\n",
       "E2AVE      float64\n",
       "ALCHL24     object\n",
       "ESTRDA2     object\n",
       "HOURSPA     object\n",
       "HEIGHT     float64\n",
       "ESTRDA1     object\n",
       "WEIGHT     float64\n",
       "HAPPY       object\n",
       "PRGNANT     object\n",
       "VAGINDR     object\n",
       "SMOKERE     object\n",
       "HOTFLAS     object\n",
       "PHYSILL     object\n",
       "AVCIGDA      int32\n",
       "TRBLSLE     object\n",
       "CANCERS     object\n",
       "DIABETE     object\n",
       "BROKEBO      int32\n",
       "OSTEOPR     object\n",
       "STATUS      object\n",
       "ESTROG1     object\n",
       "ESTRNJ1     object\n",
       "AGE          int32\n",
       "RACE        object\n",
       "NUMHOTF    float64\n",
       "VISIT        int32\n",
       "dtype: object"
      ]
     },
     "execution_count": 7,
     "metadata": {},
     "output_type": "execute_result"
    }
   ],
   "source": [
    "parse_numbers()\n",
    "menopause_data.dtypes"
   ]
  },
  {
   "cell_type": "markdown",
   "metadata": {},
   "source": [
    "### ✨ Pipeline for negative values in data"
   ]
  },
  {
   "cell_type": "markdown",
   "metadata": {},
   "source": [
    "In some of the variables, negative values are used to indicate missing data, or that the patient refused to answer. We'll create a pipeline to replace these negative values with NaNs,\n",
    "and we'll use KNN to impute the missing values.\n",
    "\n",
    "This will aid in standardizing the data."
   ]
  },
  {
   "cell_type": "code",
   "execution_count": 8,
   "metadata": {},
   "outputs": [],
   "source": [
    "numerical_features = integer_features + float_features\n",
    "numerical_features.remove('VISIT')\n"
   ]
  },
  {
   "cell_type": "code",
   "execution_count": 9,
   "metadata": {},
   "outputs": [],
   "source": [
    "# Set negatives as NaN\n",
    "menopause_data[numerical_features] = menopause_data[numerical_features].apply(lambda x: x.where(x > 0, np.nan))\n",
    "\n",
    "\n",
    "from sklearn.impute import KNNImputer\n",
    "\n",
    "imputer = KNNImputer(n_neighbors=5)\n",
    "\n",
    "# DONE\n",
    "# menopause_data[numerical_features] = imputer.fit_transform(menopause_data[numerical_features])"
   ]
  },
  {
   "cell_type": "code",
   "execution_count": 10,
   "metadata": {},
   "outputs": [],
   "source": [
    "menopause_data = pd.read_csv('./datasets/visit_dfs_imputed.csv', dtype='str')\n",
    "# parse_numbers()  # Imputed values by KNN are float, so parse all as float\n",
    "menopause_data[numerical_features] = menopause_data[numerical_features].astype(float)"
   ]
  },
  {
   "cell_type": "code",
   "execution_count": 11,
   "metadata": {},
   "outputs": [
    {
     "data": {
      "text/plain": [
       "AVCIGDA    0\n",
       "BROKEBO    0\n",
       "AGE        0\n",
       "NUMHOTF    0\n",
       "E2AVE      0\n",
       "HEIGHT     0\n",
       "WEIGHT     0\n",
       "dtype: int64"
      ]
     },
     "execution_count": 11,
     "metadata": {},
     "output_type": "execute_result"
    }
   ],
   "source": [
    "menopause_data[numerical_features].isna().sum()"
   ]
  },
  {
   "cell_type": "code",
   "execution_count": 12,
   "metadata": {},
   "outputs": [
    {
     "data": {
      "text/html": [
       "<div>\n",
       "<style scoped>\n",
       "    .dataframe tbody tr th:only-of-type {\n",
       "        vertical-align: middle;\n",
       "    }\n",
       "\n",
       "    .dataframe tbody tr th {\n",
       "        vertical-align: top;\n",
       "    }\n",
       "\n",
       "    .dataframe thead th {\n",
       "        text-align: right;\n",
       "    }\n",
       "</style>\n",
       "<table border=\"1\" class=\"dataframe\">\n",
       "  <thead>\n",
       "    <tr style=\"text-align: right;\">\n",
       "      <th></th>\n",
       "      <th>AVCIGDA</th>\n",
       "      <th>BROKEBO</th>\n",
       "      <th>AGE</th>\n",
       "      <th>NUMHOTF</th>\n",
       "      <th>E2AVE</th>\n",
       "      <th>HEIGHT</th>\n",
       "      <th>WEIGHT</th>\n",
       "    </tr>\n",
       "  </thead>\n",
       "  <tbody>\n",
       "    <tr>\n",
       "      <th>0</th>\n",
       "      <td>12.4</td>\n",
       "      <td>1.0</td>\n",
       "      <td>53.0</td>\n",
       "      <td>2.8</td>\n",
       "      <td>70.15</td>\n",
       "      <td>155.4</td>\n",
       "      <td>74.0</td>\n",
       "    </tr>\n",
       "    <tr>\n",
       "      <th>1</th>\n",
       "      <td>20.4</td>\n",
       "      <td>1.0</td>\n",
       "      <td>52.0</td>\n",
       "      <td>2.8</td>\n",
       "      <td>194.55</td>\n",
       "      <td>161.3</td>\n",
       "      <td>53.2</td>\n",
       "    </tr>\n",
       "    <tr>\n",
       "      <th>2</th>\n",
       "      <td>12.2</td>\n",
       "      <td>1.0</td>\n",
       "      <td>46.0</td>\n",
       "      <td>1.8</td>\n",
       "      <td>250.65</td>\n",
       "      <td>166.1</td>\n",
       "      <td>85.6</td>\n",
       "    </tr>\n",
       "    <tr>\n",
       "      <th>3</th>\n",
       "      <td>17.8</td>\n",
       "      <td>1.0</td>\n",
       "      <td>50.0</td>\n",
       "      <td>2.8</td>\n",
       "      <td>187.95</td>\n",
       "      <td>161.5</td>\n",
       "      <td>78.4</td>\n",
       "    </tr>\n",
       "    <tr>\n",
       "      <th>4</th>\n",
       "      <td>13.2</td>\n",
       "      <td>1.0</td>\n",
       "      <td>52.0</td>\n",
       "      <td>2.2</td>\n",
       "      <td>119.50</td>\n",
       "      <td>149.5</td>\n",
       "      <td>68.0</td>\n",
       "    </tr>\n",
       "  </tbody>\n",
       "</table>\n",
       "</div>"
      ],
      "text/plain": [
       "   AVCIGDA  BROKEBO   AGE  NUMHOTF   E2AVE  HEIGHT  WEIGHT\n",
       "0     12.4      1.0  53.0      2.8   70.15   155.4    74.0\n",
       "1     20.4      1.0  52.0      2.8  194.55   161.3    53.2\n",
       "2     12.2      1.0  46.0      1.8  250.65   166.1    85.6\n",
       "3     17.8      1.0  50.0      2.8  187.95   161.5    78.4\n",
       "4     13.2      1.0  52.0      2.2  119.50   149.5    68.0"
      ]
     },
     "execution_count": 12,
     "metadata": {},
     "output_type": "execute_result"
    }
   ],
   "source": [
    "menopause_data[numerical_features].head()"
   ]
  },
  {
   "cell_type": "code",
   "execution_count": 13,
   "metadata": {},
   "outputs": [],
   "source": [
    "# Save dataset\n",
    "# DONE\n",
    "# menopause_data.to_csv('./datasets/visit_dfs_imputed.csv', index=True)"
   ]
  },
  {
   "cell_type": "markdown",
   "metadata": {},
   "source": [
    "# 🧠 Model training!"
   ]
  },
  {
   "cell_type": "code",
   "execution_count": 14,
   "metadata": {},
   "outputs": [
    {
     "name": "stderr",
     "output_type": "stream",
     "text": [
      "c:\\Users\\Admin\\anaconda3\\envs\\LangChain\\Lib\\site-packages\\pydantic\\_internal\\_fields.py:128: UserWarning: Field \"model_server_url\" has conflict with protected namespace \"model_\".\n",
      "\n",
      "You may be able to resolve this warning by setting `model_config['protected_namespaces'] = ()`.\n",
      "  warnings.warn(\n",
      "c:\\Users\\Admin\\anaconda3\\envs\\LangChain\\Lib\\site-packages\\pydantic\\_internal\\_config.py:317: UserWarning: Valid config keys have changed in V2:\n",
      "* 'schema_extra' has been renamed to 'json_schema_extra'\n",
      "  warnings.warn(message, UserWarning)\n"
     ]
    }
   ],
   "source": [
    "from sklearn.multioutput import MultiOutputClassifier\n",
    "from sklearn.ensemble import RandomForestClassifier\n",
    "from sklearn.neighbors import KNeighborsClassifier\n",
    "from sklearn.utils import shuffle\n",
    "from sklearn.preprocessing import MinMaxScaler\n",
    "from sklearn.model_selection import RepeatedKFold\n",
    "from sklearn.model_selection import cross_val_score\n",
    "from sklearn.metrics import classification_report, confusion_matrix, accuracy_score\n",
    "\n",
    "from mlflow import log_metric, log_param, log_artifact, start_run\n"
   ]
  },
  {
   "cell_type": "code",
   "execution_count": 15,
   "metadata": {},
   "outputs": [],
   "source": [
    "targets = [\n",
    "    'STATUS',    # Indicating if the patient is menopausal or not, among other options\n",
    "    'NUMHOTF',  # Number of hot flashes daily\n",
    "    'OSTEOPR',  # Indicating if the patient has osteoporosis or not\n",
    "    'MENODEP',  # Indicating if the patient has depression or not\n",
    "]"
   ]
  },
  {
   "cell_type": "code",
   "execution_count": 16,
   "metadata": {},
   "outputs": [],
   "source": [
    "# Shuffle order to avoid order bias\n",
    "menopause_data = shuffle(menopause_data)\n"
   ]
  },
  {
   "cell_type": "markdown",
   "metadata": {},
   "source": [
    "### 👨‍⚖️ Standardizing the data"
   ]
  },
  {
   "cell_type": "code",
   "execution_count": 17,
   "metadata": {},
   "outputs": [
    {
     "data": {
      "text/html": [
       "<div>\n",
       "<style scoped>\n",
       "    .dataframe tbody tr th:only-of-type {\n",
       "        vertical-align: middle;\n",
       "    }\n",
       "\n",
       "    .dataframe tbody tr th {\n",
       "        vertical-align: top;\n",
       "    }\n",
       "\n",
       "    .dataframe thead th {\n",
       "        text-align: right;\n",
       "    }\n",
       "</style>\n",
       "<table border=\"1\" class=\"dataframe\">\n",
       "  <thead>\n",
       "    <tr style=\"text-align: right;\">\n",
       "      <th></th>\n",
       "      <th>Unnamed: 0</th>\n",
       "      <th>MENODEP</th>\n",
       "      <th>EXERCIS</th>\n",
       "      <th>DIETNUT</th>\n",
       "      <th>OUTCOME</th>\n",
       "      <th>ESTRNJ2</th>\n",
       "      <th>COMBIN2</th>\n",
       "      <th>ESTROG2</th>\n",
       "      <th>E2AVE</th>\n",
       "      <th>ALCHL24</th>\n",
       "      <th>...</th>\n",
       "      <th>DIABETE</th>\n",
       "      <th>BROKEBO</th>\n",
       "      <th>OSTEOPR</th>\n",
       "      <th>STATUS</th>\n",
       "      <th>ESTROG1</th>\n",
       "      <th>ESTRNJ1</th>\n",
       "      <th>AGE</th>\n",
       "      <th>RACE</th>\n",
       "      <th>NUMHOTF</th>\n",
       "      <th>VISIT</th>\n",
       "    </tr>\n",
       "  </thead>\n",
       "  <tbody>\n",
       "    <tr>\n",
       "      <th>1629</th>\n",
       "      <td>1629</td>\n",
       "      <td>-9999</td>\n",
       "      <td>-9999</td>\n",
       "      <td>-9999</td>\n",
       "      <td>-9999</td>\n",
       "      <td>-9999</td>\n",
       "      <td>-9999</td>\n",
       "      <td>-9999</td>\n",
       "      <td>171.150</td>\n",
       "      <td>1</td>\n",
       "      <td>...</td>\n",
       "      <td>1</td>\n",
       "      <td>1.2</td>\n",
       "      <td>1</td>\n",
       "      <td>4</td>\n",
       "      <td>1</td>\n",
       "      <td>1</td>\n",
       "      <td>47.0</td>\n",
       "      <td>4</td>\n",
       "      <td>1.4</td>\n",
       "      <td>1</td>\n",
       "    </tr>\n",
       "    <tr>\n",
       "      <th>7438</th>\n",
       "      <td>7438</td>\n",
       "      <td>-9999</td>\n",
       "      <td>-9999</td>\n",
       "      <td>-9999</td>\n",
       "      <td>-1</td>\n",
       "      <td>-1</td>\n",
       "      <td>-1</td>\n",
       "      <td>-1</td>\n",
       "      <td>22.095</td>\n",
       "      <td>1</td>\n",
       "      <td>...</td>\n",
       "      <td>2</td>\n",
       "      <td>1.0</td>\n",
       "      <td>1</td>\n",
       "      <td>4</td>\n",
       "      <td>1</td>\n",
       "      <td>1</td>\n",
       "      <td>52.0</td>\n",
       "      <td>4</td>\n",
       "      <td>1.6</td>\n",
       "      <td>3</td>\n",
       "    </tr>\n",
       "    <tr>\n",
       "      <th>21097</th>\n",
       "      <td>21097</td>\n",
       "      <td>1</td>\n",
       "      <td>2</td>\n",
       "      <td>2</td>\n",
       "      <td>-1</td>\n",
       "      <td>-1</td>\n",
       "      <td>-1</td>\n",
       "      <td>-1</td>\n",
       "      <td>30.950</td>\n",
       "      <td>1</td>\n",
       "      <td>...</td>\n",
       "      <td>1</td>\n",
       "      <td>1.0</td>\n",
       "      <td>1</td>\n",
       "      <td>2</td>\n",
       "      <td>1</td>\n",
       "      <td>1</td>\n",
       "      <td>53.0</td>\n",
       "      <td>4</td>\n",
       "      <td>2.0</td>\n",
       "      <td>9</td>\n",
       "    </tr>\n",
       "    <tr>\n",
       "      <th>2386</th>\n",
       "      <td>2386</td>\n",
       "      <td>-9999</td>\n",
       "      <td>-9999</td>\n",
       "      <td>-9999</td>\n",
       "      <td>-9999</td>\n",
       "      <td>-9999</td>\n",
       "      <td>-9999</td>\n",
       "      <td>-9999</td>\n",
       "      <td>93.850</td>\n",
       "      <td>1</td>\n",
       "      <td>...</td>\n",
       "      <td>1</td>\n",
       "      <td>1.2</td>\n",
       "      <td>1</td>\n",
       "      <td>5</td>\n",
       "      <td>1</td>\n",
       "      <td>1</td>\n",
       "      <td>44.0</td>\n",
       "      <td>4</td>\n",
       "      <td>2.4</td>\n",
       "      <td>1</td>\n",
       "    </tr>\n",
       "    <tr>\n",
       "      <th>16714</th>\n",
       "      <td>16714</td>\n",
       "      <td>-9999</td>\n",
       "      <td>-9999</td>\n",
       "      <td>-9999</td>\n",
       "      <td>-9999</td>\n",
       "      <td>-1</td>\n",
       "      <td>-1</td>\n",
       "      <td>-1</td>\n",
       "      <td>16.030</td>\n",
       "      <td>-9999</td>\n",
       "      <td>...</td>\n",
       "      <td>1</td>\n",
       "      <td>1.2</td>\n",
       "      <td>1</td>\n",
       "      <td>2</td>\n",
       "      <td>1</td>\n",
       "      <td>1</td>\n",
       "      <td>57.0</td>\n",
       "      <td>4</td>\n",
       "      <td>2.4</td>\n",
       "      <td>7</td>\n",
       "    </tr>\n",
       "  </tbody>\n",
       "</table>\n",
       "<p>5 rows × 34 columns</p>\n",
       "</div>"
      ],
      "text/plain": [
       "      Unnamed: 0 MENODEP EXERCIS DIETNUT OUTCOME ESTRNJ2 COMBIN2 ESTROG2  \\\n",
       "1629        1629   -9999   -9999   -9999   -9999   -9999   -9999   -9999   \n",
       "7438        7438   -9999   -9999   -9999      -1      -1      -1      -1   \n",
       "21097      21097       1       2       2      -1      -1      -1      -1   \n",
       "2386        2386   -9999   -9999   -9999   -9999   -9999   -9999   -9999   \n",
       "16714      16714   -9999   -9999   -9999   -9999      -1      -1      -1   \n",
       "\n",
       "         E2AVE ALCHL24  ... DIABETE BROKEBO  OSTEOPR STATUS  ESTROG1 ESTRNJ1  \\\n",
       "1629   171.150       1  ...       1     1.2        1      4        1       1   \n",
       "7438    22.095       1  ...       2     1.0        1      4        1       1   \n",
       "21097   30.950       1  ...       1     1.0        1      2        1       1   \n",
       "2386    93.850       1  ...       1     1.2        1      5        1       1   \n",
       "16714   16.030   -9999  ...       1     1.2        1      2        1       1   \n",
       "\n",
       "        AGE RACE NUMHOTF VISIT  \n",
       "1629   47.0    4     1.4     1  \n",
       "7438   52.0    4     1.6     3  \n",
       "21097  53.0    4     2.0     9  \n",
       "2386   44.0    4     2.4     1  \n",
       "16714  57.0    4     2.4     7  \n",
       "\n",
       "[5 rows x 34 columns]"
      ]
     },
     "execution_count": 17,
     "metadata": {},
     "output_type": "execute_result"
    }
   ],
   "source": [
    "# Standardize numerical features\n",
    "scaler = MinMaxScaler()\n",
    "std_menp_data = menopause_data.copy()\n",
    "std_menp_data.head()"
   ]
  },
  {
   "cell_type": "code",
   "execution_count": 18,
   "metadata": {},
   "outputs": [],
   "source": [
    "numerical_features_no_target = list(set(numerical_features) - set(targets))"
   ]
  },
  {
   "cell_type": "code",
   "execution_count": 19,
   "metadata": {},
   "outputs": [
    {
     "data": {
      "text/html": [
       "<div>\n",
       "<style scoped>\n",
       "    .dataframe tbody tr th:only-of-type {\n",
       "        vertical-align: middle;\n",
       "    }\n",
       "\n",
       "    .dataframe tbody tr th {\n",
       "        vertical-align: top;\n",
       "    }\n",
       "\n",
       "    .dataframe thead th {\n",
       "        text-align: right;\n",
       "    }\n",
       "</style>\n",
       "<table border=\"1\" class=\"dataframe\">\n",
       "  <thead>\n",
       "    <tr style=\"text-align: right;\">\n",
       "      <th></th>\n",
       "      <th>HEIGHT</th>\n",
       "      <th>WEIGHT</th>\n",
       "      <th>AVCIGDA</th>\n",
       "      <th>BROKEBO</th>\n",
       "      <th>E2AVE</th>\n",
       "      <th>AGE</th>\n",
       "    </tr>\n",
       "  </thead>\n",
       "  <tbody>\n",
       "    <tr>\n",
       "      <th>1629</th>\n",
       "      <td>0.335117</td>\n",
       "      <td>0.181293</td>\n",
       "      <td>0.169492</td>\n",
       "      <td>0.066667</td>\n",
       "      <td>0.024222</td>\n",
       "      <td>0.227273</td>\n",
       "    </tr>\n",
       "    <tr>\n",
       "      <th>7438</th>\n",
       "      <td>0.444975</td>\n",
       "      <td>0.262125</td>\n",
       "      <td>0.274576</td>\n",
       "      <td>0.000000</td>\n",
       "      <td>0.002884</td>\n",
       "      <td>0.454545</td>\n",
       "    </tr>\n",
       "    <tr>\n",
       "      <th>21097</th>\n",
       "      <td>0.314100</td>\n",
       "      <td>0.221709</td>\n",
       "      <td>0.294915</td>\n",
       "      <td>0.000000</td>\n",
       "      <td>0.004152</td>\n",
       "      <td>0.500000</td>\n",
       "    </tr>\n",
       "    <tr>\n",
       "      <th>2386</th>\n",
       "      <td>0.350401</td>\n",
       "      <td>0.327367</td>\n",
       "      <td>0.216949</td>\n",
       "      <td>0.066667</td>\n",
       "      <td>0.013156</td>\n",
       "      <td>0.090909</td>\n",
       "    </tr>\n",
       "    <tr>\n",
       "      <th>16714</th>\n",
       "      <td>0.399312</td>\n",
       "      <td>0.163395</td>\n",
       "      <td>0.322034</td>\n",
       "      <td>0.066667</td>\n",
       "      <td>0.002016</td>\n",
       "      <td>0.681818</td>\n",
       "    </tr>\n",
       "  </tbody>\n",
       "</table>\n",
       "</div>"
      ],
      "text/plain": [
       "         HEIGHT    WEIGHT   AVCIGDA   BROKEBO     E2AVE       AGE\n",
       "1629   0.335117  0.181293  0.169492  0.066667  0.024222  0.227273\n",
       "7438   0.444975  0.262125  0.274576  0.000000  0.002884  0.454545\n",
       "21097  0.314100  0.221709  0.294915  0.000000  0.004152  0.500000\n",
       "2386   0.350401  0.327367  0.216949  0.066667  0.013156  0.090909\n",
       "16714  0.399312  0.163395  0.322034  0.066667  0.002016  0.681818"
      ]
     },
     "execution_count": 19,
     "metadata": {},
     "output_type": "execute_result"
    }
   ],
   "source": [
    "std_menp_data[numerical_features_no_target] = scaler.fit_transform(menopause_data[numerical_features_no_target])\n",
    "std_menp_data[numerical_features_no_target].head()"
   ]
  },
  {
   "cell_type": "markdown",
   "metadata": {},
   "source": [
    "### ⚙ Defining resources"
   ]
  },
  {
   "cell_type": "code",
   "execution_count": 20,
   "metadata": {},
   "outputs": [],
   "source": [
    "# Define cross-validation rules\n",
    "\n",
    "cv_seed = 1\n",
    "cv = RepeatedKFold(n_splits=10, n_repeats=3, random_state=cv_seed)"
   ]
  },
  {
   "cell_type": "code",
   "execution_count": 21,
   "metadata": {},
   "outputs": [],
   "source": [
    "# Classification models\n",
    "knn_classifier = KNeighborsClassifier(\n",
    "    n_neighbors=5\n",
    ")\n",
    "rf_classifier = RandomForestClassifier(\n",
    "    n_estimators=100,\n",
    "    random_state=0\n",
    ")\n",
    "\n",
    "# Define as multioutput classifier\n",
    "multi_knn_classifier = MultiOutputClassifier(knn_classifier, n_jobs=-1)\n",
    "multi_rf_classifier = MultiOutputClassifier(rf_classifier, n_jobs=-1)"
   ]
  },
  {
   "cell_type": "markdown",
   "metadata": {},
   "source": [
    "### 🧮 Categorical values picky tuning"
   ]
  },
  {
   "cell_type": "code",
   "execution_count": 22,
   "metadata": {},
   "outputs": [],
   "source": [
    "from pandas import DataFrame\n",
    "from sklearn.preprocessing import LabelEncoder\n",
    "\n",
    "def encode_labels(df: DataFrame, targets: list[str]):\n",
    "\n",
    "    le = LabelEncoder()\n",
    "\n",
    "    for target in targets:\n",
    "        df[target] = le.fit_transform(df[target])\n"
   ]
  },
  {
   "cell_type": "code",
   "execution_count": 23,
   "metadata": {},
   "outputs": [],
   "source": [
    "def get_hotf_category(hot_flashes: float):\n",
    "\n",
    "    if hot_flashes <= 0 and hot_flashes < 5:\n",
    "        return 1\n",
    "    elif hot_flashes >= 5 and hot_flashes < 10:\n",
    "        return 2\n",
    "    elif hot_flashes >= 10 and hot_flashes < 15:\n",
    "        return 3\n",
    "    elif hot_flashes >= 15 and hot_flashes < 20:\n",
    "        return 4\n",
    "    elif hot_flashes >= 20 and hot_flashes < 25:\n",
    "        return 5\n",
    "    elif hot_flashes >= 25 and hot_flashes < 30:\n",
    "        return 6\n",
    "    else:\n",
    "        return 7"
   ]
  },
  {
   "cell_type": "code",
   "execution_count": 24,
   "metadata": {},
   "outputs": [],
   "source": [
    "# Encode categorical features for KNN model\n",
    "\n",
    "std_menp_data_encoded = std_menp_data.copy()\n",
    "\n",
    "# Turn 'NUMHOTF' into a categorical feature\n",
    "\n",
    "std_menp_data_encoded['NUMHOTF'] = std_menp_data_encoded['NUMHOTF'].apply(lambda x: get_hotf_category(x))\n",
    "\n",
    "non_numerical_features = list(set(features) - set(numerical_features))\n",
    "\n",
    "encode_labels(std_menp_data_encoded, non_numerical_features)\n"
   ]
  },
  {
   "cell_type": "code",
   "execution_count": 25,
   "metadata": {},
   "outputs": [
    {
     "data": {
      "text/plain": [
       "array([dtype('O'), dtype('int32'), dtype('float64'), dtype('int64')],\n",
       "      dtype=object)"
      ]
     },
     "execution_count": 25,
     "metadata": {},
     "output_type": "execute_result"
    }
   ],
   "source": [
    "std_menp_data_encoded[non_numerical_features] = std_menp_data_encoded[non_numerical_features].astype(int)\n",
    "std_menp_data_encoded.dtypes.unique()"
   ]
  },
  {
   "cell_type": "code",
   "execution_count": 26,
   "metadata": {},
   "outputs": [
    {
     "data": {
      "text/plain": [
       "Index(['Unnamed: 0', 'MENODEP', 'EXERCIS', 'DIETNUT', 'OUTCOME', 'ESTRNJ2',\n",
       "       'COMBIN2', 'ESTROG2', 'E2AVE', 'ALCHL24', 'ESTRDA2', 'HOURSPA',\n",
       "       'HEIGHT', 'ESTRDA1', 'WEIGHT', 'HAPPY', 'PRGNANT', 'VAGINDR', 'SMOKERE',\n",
       "       'HOTFLAS', 'PHYSILL', 'AVCIGDA', 'TRBLSLE', 'CANCERS', 'DIABETE',\n",
       "       'BROKEBO', 'OSTEOPR', 'STATUS', 'ESTROG1', 'ESTRNJ1', 'AGE', 'RACE',\n",
       "       'NUMHOTF', 'VISIT'],\n",
       "      dtype='object')"
      ]
     },
     "execution_count": 26,
     "metadata": {},
     "output_type": "execute_result"
    }
   ],
   "source": [
    "std_menp_data_encoded[std_menp_data_encoded == '0'].columns"
   ]
  },
  {
   "cell_type": "markdown",
   "metadata": {},
   "source": [
    "### 🏋️ Training and validating classifiers"
   ]
  },
  {
   "cell_type": "code",
   "execution_count": 27,
   "metadata": {},
   "outputs": [],
   "source": [
    "models_performance = {\n",
    "    'knn': {\n",
    "        'model': multi_knn_classifier,\n",
    "        'scores': cross_val_score(\n",
    "            multi_knn_classifier,\n",
    "            std_menp_data_encoded[features], \n",
    "            std_menp_data_encoded[targets],\n",
    "            scoring='neg_mean_absolute_error',\n",
    "            error_score='raise',\n",
    "            cv=cv, \n",
    "            n_jobs=-1\n",
    "        )\n",
    "    },\n",
    "    'rf': {\n",
    "        'model': multi_rf_classifier,\n",
    "        'scores': cross_val_score(\n",
    "            multi_rf_classifier,\n",
    "            std_menp_data_encoded[features], \n",
    "            std_menp_data_encoded[targets],\n",
    "            scoring='neg_mean_absolute_error', \n",
    "            cv=cv, \n",
    "            n_jobs=-1\n",
    "        )\n",
    "    }\n",
    "\n",
    "}"
   ]
  },
  {
   "cell_type": "code",
   "execution_count": 28,
   "metadata": {},
   "outputs": [
    {
     "data": {
      "text/plain": [
       "array([-0.07473519, -0.0733621 , -0.07218517, -0.0742448 , -0.0715967 ,\n",
       "       -0.07355826, -0.07708905, -0.07260597, -0.07348901, -0.07574568,\n",
       "       -0.07650059, -0.07395057, -0.07375441, -0.06953707, -0.07522558,\n",
       "       -0.079541  , -0.07395057, -0.07211538, -0.07211538, -0.07486264,\n",
       "       -0.06865437, -0.0760102 , -0.07826599, -0.08052177, -0.06894861,\n",
       "       -0.07091016, -0.07326403, -0.07751177, -0.07211538, -0.0788854 ])"
      ]
     },
     "execution_count": 28,
     "metadata": {},
     "output_type": "execute_result"
    }
   ],
   "source": [
    "models_performance['knn']['scores']"
   ]
  },
  {
   "cell_type": "code",
   "execution_count": 29,
   "metadata": {},
   "outputs": [
    {
     "name": "stdout",
     "output_type": "stream",
     "text": [
      "MAE: 0.074 (0.003)\n"
     ]
    }
   ],
   "source": [
    "n_scores = np.absolute(models_performance['knn']['scores'])\n",
    "print('MAE: %.3f (%.3f)' % (np.mean(n_scores), np.std(n_scores)))"
   ]
  },
  {
   "cell_type": "code",
   "execution_count": 30,
   "metadata": {},
   "outputs": [
    {
     "name": "stdout",
     "output_type": "stream",
     "text": [
      "MAE: 0.004 (0.001)\n"
     ]
    }
   ],
   "source": [
    "n_scores = np.absolute(models_performance['rf']['scores'])\n",
    "print('MAE: %.3f (%.3f)' % (np.mean(n_scores), np.std(n_scores)))"
   ]
  },
  {
   "cell_type": "markdown",
   "metadata": {},
   "source": [
    "### 📊 Comparing classifiers"
   ]
  },
  {
   "cell_type": "code",
   "execution_count": 31,
   "metadata": {},
   "outputs": [],
   "source": [
    "# Import matplotlib, python's plotting library.\n",
    "import matplotlib.pyplot as plt"
   ]
  },
  {
   "cell_type": "code",
   "execution_count": 35,
   "metadata": {},
   "outputs": [
    {
     "name": "stdout",
     "output_type": "stream",
     "text": [
      "KNN MAE: 0.074 (0.003)\n",
      "RF MAE: 0.004 (0.001)\n"
     ]
    }
   ],
   "source": [
    "# Get the MAE and standard deviation of the scores.\n",
    "mae_knn = np.absolute(models_performance['knn']['scores'])\n",
    "mae_rf = np.absolute(models_performance['rf']['scores'])\n",
    "mae_knn_mean = np.mean(mae_knn)\n",
    "mae_rf_mean = np.mean(mae_rf)\n",
    "mae_knn_std = np.std(mae_knn)\n",
    "mae_rf_std = np.std(mae_rf)\n",
    "print('KNN MAE: %.3f (%.3f)' % (mae_knn_mean, mae_knn_std))\n",
    "print('RF MAE: %.3f (%.3f)' % (mae_rf_mean, mae_rf_std))"
   ]
  },
  {
   "cell_type": "code",
   "execution_count": 36,
   "metadata": {},
   "outputs": [],
   "source": [
    "# Define the model names.\n",
    "model_names = ['KNN', 'RF']"
   ]
  },
  {
   "cell_type": "code",
   "execution_count": 37,
   "metadata": {},
   "outputs": [],
   "source": [
    "# Save the MAE of the models in a list.\n",
    "model_mae = [mae_knn_mean, mae_rf_mean]\n",
    "# Save the standard deviation of the models in a list.\n",
    "model_std = [mae_knn_std, mae_rf_std]"
   ]
  },
  {
   "cell_type": "code",
   "execution_count": 39,
   "metadata": {},
   "outputs": [
    {
     "data": {
      "image/png": "[encoded data removed]",
      "text/plain": [
       "<Figure size 640x480 with 1 Axes>"
      ]
     },
     "metadata": {},
     "output_type": "display_data"
    }
   ],
   "source": [
    "# Create an error bar for each model.\n",
    "plt.errorbar(model_names, model_mae, yerr=model_std, fmt='o', ecolor='orangered', capsize=10)\n",
    "\n",
    "# Title and labels.\n",
    "plt.title('Mean Absolute Error of Models')\n",
    "plt.xlabel('Model')\n",
    "plt.ylabel('Mean Absolute Error')\n",
    "\n",
    "# Show grid.\n",
    "plt.grid(True)\n",
    "\n",
    "# Show plot.\n",
    "plt.show()"
   ]
  },
  {
   "cell_type": "code",
   "execution_count": null,
   "metadata": {},
   "outputs": [],
   "source": []
  }
 ],
 "metadata": {
  "kernelspec": {
   "display_name": "base",
   "language": "python",
   "name": "python3"
  },
  "language_info": {
   "codemirror_mode": {
    "name": "ipython",
    "version": 3
   },
   "file_extension": ".py",
   "mimetype": "text/x-python",
   "name": "python",
   "nbconvert_exporter": "python",
   "pygments_lexer": "ipython3",
   "version": "3.11.5"
  }
 },
 "nbformat": 4,
 "nbformat_minor": 2
}
