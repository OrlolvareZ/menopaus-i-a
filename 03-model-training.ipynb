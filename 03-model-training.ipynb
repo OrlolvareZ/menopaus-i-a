{
 "cells": [
  {
   "cell_type": "code",
   "execution_count": 48,
   "metadata": {},
   "outputs": [],
   "source": [
    "import pandas as pd\n",
    "import numpy as np"
   ]
  },
  {
   "cell_type": "markdown",
   "metadata": {},
   "source": [
    "We'll train both a Random Forest Classifier and a K-Nearest Neighbors Classifier using our menopause data. We'll then compare the two models and see which one performs better."
   ]
  },
  {
   "cell_type": "markdown",
   "metadata": {},
   "source": [
    "# 📖 Loading codebook values"
   ]
  },
  {
   "cell_type": "markdown",
   "metadata": {},
   "source": [
    "### ℹ Reading in the data and variables to be used"
   ]
  },
  {
   "cell_type": "code",
   "execution_count": 49,
   "metadata": {},
   "outputs": [
    {
     "data": {
      "text/html": [
       "<div>\n",
       "<style scoped>\n",
       "    .dataframe tbody tr th:only-of-type {\n",
       "        vertical-align: middle;\n",
       "    }\n",
       "\n",
       "    .dataframe tbody tr th {\n",
       "        vertical-align: top;\n",
       "    }\n",
       "\n",
       "    .dataframe thead th {\n",
       "        text-align: right;\n",
       "    }\n",
       "</style>\n",
       "<table border=\"1\" class=\"dataframe\">\n",
       "  <thead>\n",
       "    <tr style=\"text-align: right;\">\n",
       "      <th></th>\n",
       "      <th>HAVEPER</th>\n",
       "      <th>EXPENSI</th>\n",
       "      <th>BROKEBO</th>\n",
       "      <th>AGE</th>\n",
       "      <th>EXERCIS</th>\n",
       "      <th>DNTKNOW</th>\n",
       "      <th>AVCIGDA</th>\n",
       "      <th>NOREASO</th>\n",
       "      <th>SIDEEFF</th>\n",
       "      <th>OSTEOPO</th>\n",
       "      <th>...</th>\n",
       "      <th>DIETNUT</th>\n",
       "      <th>LIKEFEL</th>\n",
       "      <th>COMBIN2</th>\n",
       "      <th>BONES3</th>\n",
       "      <th>PRGNANT</th>\n",
       "      <th>SMOKERE</th>\n",
       "      <th>ESTRNJ1</th>\n",
       "      <th>STOPOTH</th>\n",
       "      <th>BONES2</th>\n",
       "      <th>HOURSPA</th>\n",
       "    </tr>\n",
       "  </thead>\n",
       "  <tbody>\n",
       "    <tr>\n",
       "      <th>0</th>\n",
       "      <td>-1</td>\n",
       "      <td>-1</td>\n",
       "      <td>0</td>\n",
       "      <td>53</td>\n",
       "      <td>-9999</td>\n",
       "      <td>-1</td>\n",
       "      <td>-1</td>\n",
       "      <td>-1</td>\n",
       "      <td>-1</td>\n",
       "      <td>1</td>\n",
       "      <td>...</td>\n",
       "      <td>-9999</td>\n",
       "      <td>-1</td>\n",
       "      <td>-9999</td>\n",
       "      <td>-1</td>\n",
       "      <td>1</td>\n",
       "      <td>1</td>\n",
       "      <td>1</td>\n",
       "      <td>-1</td>\n",
       "      <td>-1</td>\n",
       "      <td>-1</td>\n",
       "    </tr>\n",
       "    <tr>\n",
       "      <th>1</th>\n",
       "      <td>-1</td>\n",
       "      <td>-1</td>\n",
       "      <td>0</td>\n",
       "      <td>52</td>\n",
       "      <td>-9999</td>\n",
       "      <td>-1</td>\n",
       "      <td>-1</td>\n",
       "      <td>-1</td>\n",
       "      <td>-1</td>\n",
       "      <td>-1</td>\n",
       "      <td>...</td>\n",
       "      <td>-9999</td>\n",
       "      <td>-1</td>\n",
       "      <td>-9999</td>\n",
       "      <td>-1</td>\n",
       "      <td>1</td>\n",
       "      <td>1</td>\n",
       "      <td>1</td>\n",
       "      <td>-1</td>\n",
       "      <td>-1</td>\n",
       "      <td>-1</td>\n",
       "    </tr>\n",
       "    <tr>\n",
       "      <th>2</th>\n",
       "      <td>-1</td>\n",
       "      <td>-1</td>\n",
       "      <td>1</td>\n",
       "      <td>46</td>\n",
       "      <td>-9999</td>\n",
       "      <td>-1</td>\n",
       "      <td>-1</td>\n",
       "      <td>-1</td>\n",
       "      <td>-1</td>\n",
       "      <td>-1</td>\n",
       "      <td>...</td>\n",
       "      <td>-9999</td>\n",
       "      <td>-1</td>\n",
       "      <td>-9999</td>\n",
       "      <td>-1</td>\n",
       "      <td>1</td>\n",
       "      <td>1</td>\n",
       "      <td>1</td>\n",
       "      <td>-1</td>\n",
       "      <td>-1</td>\n",
       "      <td>-1</td>\n",
       "    </tr>\n",
       "    <tr>\n",
       "      <th>3</th>\n",
       "      <td>-1</td>\n",
       "      <td>-1</td>\n",
       "      <td>0</td>\n",
       "      <td>50</td>\n",
       "      <td>-9999</td>\n",
       "      <td>-1</td>\n",
       "      <td>-1</td>\n",
       "      <td>-1</td>\n",
       "      <td>-1</td>\n",
       "      <td>-1</td>\n",
       "      <td>...</td>\n",
       "      <td>-9999</td>\n",
       "      <td>-1</td>\n",
       "      <td>-9999</td>\n",
       "      <td>-1</td>\n",
       "      <td>1</td>\n",
       "      <td>1</td>\n",
       "      <td>1</td>\n",
       "      <td>-1</td>\n",
       "      <td>-1</td>\n",
       "      <td>4</td>\n",
       "    </tr>\n",
       "    <tr>\n",
       "      <th>4</th>\n",
       "      <td>-1</td>\n",
       "      <td>-1</td>\n",
       "      <td>0</td>\n",
       "      <td>52</td>\n",
       "      <td>-9999</td>\n",
       "      <td>-1</td>\n",
       "      <td>-1</td>\n",
       "      <td>-1</td>\n",
       "      <td>-1</td>\n",
       "      <td>-1</td>\n",
       "      <td>...</td>\n",
       "      <td>-9999</td>\n",
       "      <td>-1</td>\n",
       "      <td>-9999</td>\n",
       "      <td>-1</td>\n",
       "      <td>1</td>\n",
       "      <td>1</td>\n",
       "      <td>1</td>\n",
       "      <td>-1</td>\n",
       "      <td>-1</td>\n",
       "      <td>-1</td>\n",
       "    </tr>\n",
       "  </tbody>\n",
       "</table>\n",
       "<p>5 rows × 64 columns</p>\n",
       "</div>"
      ],
      "text/plain": [
       "  HAVEPER EXPENSI BROKEBO AGE EXERCIS DNTKNOW AVCIGDA NOREASO SIDEEFF OSTEOPO  \\\n",
       "0      -1      -1       0  53   -9999      -1      -1      -1      -1       1   \n",
       "1      -1      -1       0  52   -9999      -1      -1      -1      -1      -1   \n",
       "2      -1      -1       1  46   -9999      -1      -1      -1      -1      -1   \n",
       "3      -1      -1       0  50   -9999      -1      -1      -1      -1      -1   \n",
       "4      -1      -1       0  52   -9999      -1      -1      -1      -1      -1   \n",
       "\n",
       "   ... DIETNUT LIKEFEL COMBIN2 BONES3 PRGNANT SMOKERE ESTRNJ1 STOPOTH BONES2  \\\n",
       "0  ...   -9999      -1   -9999     -1       1       1       1      -1     -1   \n",
       "1  ...   -9999      -1   -9999     -1       1       1       1      -1     -1   \n",
       "2  ...   -9999      -1   -9999     -1       1       1       1      -1     -1   \n",
       "3  ...   -9999      -1   -9999     -1       1       1       1      -1     -1   \n",
       "4  ...   -9999      -1   -9999     -1       1       1       1      -1     -1   \n",
       "\n",
       "  HOURSPA  \n",
       "0      -1  \n",
       "1      -1  \n",
       "2      -1  \n",
       "3       4  \n",
       "4      -1  \n",
       "\n",
       "[5 rows x 64 columns]"
      ]
     },
     "execution_count": 49,
     "metadata": {},
     "output_type": "execute_result"
    }
   ],
   "source": [
    "menopause_data = pd.read_csv('./datasets/visit_dfs.csv', dtype='str')\n",
    "menopause_data.head()"
   ]
  },
  {
   "cell_type": "code",
   "execution_count": 50,
   "metadata": {},
   "outputs": [
    {
     "name": "stdout",
     "output_type": "stream",
     "text": [
      "Ages in dataset:\n",
      "Min age: 42.0\n",
      "Max age: 64.0\n"
     ]
    }
   ],
   "source": [
    "ages = menopause_data['AGE'].astype(int).where(menopause_data['AGE'].astype(int) >= 0)\n",
    "print(\n",
    "    'Ages in dataset:',\n",
    "    f'Min age: {ages.min()}',\n",
    "    f'Max age: {ages.max()}',\n",
    "    sep='\\n'\n",
    ")"
   ]
  },
  {
   "cell_type": "code",
   "execution_count": 51,
   "metadata": {},
   "outputs": [
    {
     "data": {
      "text/plain": [
       "['MENODEP',\n",
       " 'EXERCIS',\n",
       " 'DIETNUT',\n",
       " 'OUTCOME',\n",
       " 'ESTRNJ2',\n",
       " 'COMBIN2',\n",
       " 'ESTROG2',\n",
       " 'E2AVE',\n",
       " 'ALCHL24',\n",
       " 'ESTRDA2',\n",
       " 'HOURSPA',\n",
       " 'HEIGHT',\n",
       " 'ESTRDA1',\n",
       " 'WEIGHT',\n",
       " 'HAPPY',\n",
       " 'PRGNANT',\n",
       " 'VAGINDR',\n",
       " 'SMOKERE',\n",
       " 'HOTFLAS',\n",
       " 'PHYSILL',\n",
       " 'AVCIGDA',\n",
       " 'TRBLSLE',\n",
       " 'CANCERS',\n",
       " 'DIABETE',\n",
       " 'BROKEBO',\n",
       " 'OSTEOPR',\n",
       " 'STATUS',\n",
       " 'ESTROG1',\n",
       " 'ESTRNJ1',\n",
       " 'AGE',\n",
       " 'RACE',\n",
       " 'NUMHOTF',\n",
       " 'VISIT']"
      ]
     },
     "execution_count": 51,
     "metadata": {},
     "output_type": "execute_result"
    }
   ],
   "source": [
    "with open('./lista_variables/variables_selected_final.txt', 'r') as f:\n",
    "    features = f.read().splitlines()\n",
    "\n",
    "features"
   ]
  },
  {
   "cell_type": "code",
   "execution_count": 52,
   "metadata": {},
   "outputs": [],
   "source": [
    "targets = [\n",
    "    'STATUS',    # Indicating if the patient is menopausal or not, among other options\n",
    "    'NUMHOTF',  # Number of hot flashes daily\n",
    "    'OSTEOPR',  # Indicating if the patient has osteoporosis or not\n",
    "    'MENODEP',  # Indicating if the patient has depression or not\n",
    "]\n",
    "\n",
    "# Remove targets from features\n",
    "for target in targets:\n",
    "    features.remove(target)\n",
    "\n",
    "features.remove('VISIT')  # Visit should not be used as a feature"
   ]
  },
  {
   "cell_type": "markdown",
   "metadata": {},
   "source": [
    "> Do note that our variables are mainly categorical, but not all of them. We'll read a JSON file to know which variables aren't categorical and we'll change them to float."
   ]
  },
  {
   "cell_type": "code",
   "execution_count": 53,
   "metadata": {},
   "outputs": [],
   "source": [
    "menopause_data = menopause_data[features + targets]"
   ]
  },
  {
   "cell_type": "code",
   "execution_count": 54,
   "metadata": {},
   "outputs": [],
   "source": [
    "import json\n",
    "\n",
    "with open('./lista_variables/variables_selected_labels.json', 'r') as file:\n",
    "    features_labels = json.load(file)"
   ]
  },
  {
   "cell_type": "markdown",
   "metadata": {},
   "source": [
    "### ✅ Parsing data to correct data type"
   ]
  },
  {
   "cell_type": "code",
   "execution_count": 55,
   "metadata": {},
   "outputs": [],
   "source": [
    "integer_features = features_labels['NUMERICAL']['vars']['int']\n",
    "integer_features.remove('VISIT')\n",
    "float_features = features_labels['NUMERICAL']['vars']['float']\n",
    "\n",
    "def parse_numbers():\n",
    "\n",
    "    for feature in integer_features:\n",
    "        menopause_data[feature] = menopause_data[feature].astype(int)\n",
    "\n",
    "    for feature in float_features:\n",
    "        menopause_data[feature] = menopause_data[feature].astype(float)"
   ]
  },
  {
   "cell_type": "code",
   "execution_count": 56,
   "metadata": {},
   "outputs": [
    {
     "data": {
      "text/plain": [
       "EXERCIS     object\n",
       "DIETNUT     object\n",
       "OUTCOME     object\n",
       "ESTRNJ2     object\n",
       "COMBIN2     object\n",
       "ESTROG2     object\n",
       "E2AVE      float64\n",
       "ALCHL24     object\n",
       "ESTRDA2     object\n",
       "HOURSPA     object\n",
       "HEIGHT     float64\n",
       "ESTRDA1     object\n",
       "WEIGHT     float64\n",
       "HAPPY       object\n",
       "PRGNANT     object\n",
       "VAGINDR     object\n",
       "SMOKERE     object\n",
       "HOTFLAS     object\n",
       "PHYSILL     object\n",
       "AVCIGDA      int32\n",
       "TRBLSLE     object\n",
       "CANCERS     object\n",
       "DIABETE     object\n",
       "BROKEBO      int32\n",
       "ESTROG1     object\n",
       "ESTRNJ1     object\n",
       "AGE          int32\n",
       "RACE        object\n",
       "STATUS      object\n",
       "NUMHOTF    float64\n",
       "OSTEOPR     object\n",
       "MENODEP     object\n",
       "dtype: object"
      ]
     },
     "execution_count": 56,
     "metadata": {},
     "output_type": "execute_result"
    }
   ],
   "source": [
    "parse_numbers()\n",
    "menopause_data.dtypes"
   ]
  },
  {
   "cell_type": "markdown",
   "metadata": {},
   "source": [
    "### ✨ Pipeline for negative values in data"
   ]
  },
  {
   "cell_type": "markdown",
   "metadata": {},
   "source": [
    "In some of the variables, negative values are used to indicate missing data, or that the patient refused to answer. We'll create a pipeline to replace these negative values with NaNs,\n",
    "and we'll use KNN to impute the missing values.\n",
    "\n",
    "This will aid in standardizing the data."
   ]
  },
  {
   "cell_type": "code",
   "execution_count": 57,
   "metadata": {},
   "outputs": [],
   "source": [
    "numerical_features = integer_features + float_features"
   ]
  },
  {
   "cell_type": "code",
   "execution_count": 58,
   "metadata": {},
   "outputs": [],
   "source": [
    "# Set negatives as NaN\n",
    "menopause_data[numerical_features] = menopause_data[numerical_features].apply(lambda x: x.where(x > 0, np.nan))\n",
    "\n",
    "\n",
    "from sklearn.impute import KNNImputer\n",
    "\n",
    "imputer = KNNImputer(n_neighbors=5)\n",
    "\n",
    "# DONE\n",
    "# menopause_data[numerical_features] = imputer.fit_transform(menopause_data[numerical_features])"
   ]
  },
  {
   "cell_type": "code",
   "execution_count": 59,
   "metadata": {},
   "outputs": [],
   "source": [
    "menopause_data = pd.read_csv('./datasets/visit_dfs_imputed.csv', dtype='str', index_col=0)\n",
    "# Imputed values by KNN are float, so parse all as float\n",
    "menopause_data[numerical_features] = menopause_data[numerical_features].astype(float)"
   ]
  },
  {
   "cell_type": "code",
   "execution_count": 60,
   "metadata": {},
   "outputs": [
    {
     "data": {
      "text/plain": [
       "AVCIGDA    0\n",
       "BROKEBO    0\n",
       "AGE        0\n",
       "NUMHOTF    0\n",
       "E2AVE      0\n",
       "HEIGHT     0\n",
       "WEIGHT     0\n",
       "dtype: int64"
      ]
     },
     "execution_count": 60,
     "metadata": {},
     "output_type": "execute_result"
    }
   ],
   "source": [
    "menopause_data[numerical_features].isna().sum()  # Hopefully no NaNs!"
   ]
  },
  {
   "cell_type": "code",
   "execution_count": 61,
   "metadata": {},
   "outputs": [],
   "source": [
    "# Save dataset\n",
    "# DONE\n",
    "# menopause_data.to_csv('./datasets/visit_dfs_imputed.csv', index=True)"
   ]
  },
  {
   "cell_type": "markdown",
   "metadata": {},
   "source": [
    "# 🧠 Model training!"
   ]
  },
  {
   "cell_type": "code",
   "execution_count": 62,
   "metadata": {},
   "outputs": [],
   "source": [
    "from sklearn.multioutput import MultiOutputClassifier\n",
    "from sklearn.ensemble import RandomForestClassifier\n",
    "from sklearn.neighbors import KNeighborsClassifier\n",
    "from sklearn.utils import shuffle\n",
    "from sklearn.preprocessing import MinMaxScaler\n",
    "from sklearn.model_selection import RepeatedKFold\n",
    "from sklearn.model_selection import cross_val_score\n",
    "from sklearn.metrics import classification_report, confusion_matrix, accuracy_score\n",
    "\n",
    "from mlflow import log_metric, log_param, log_artifact, start_run\n"
   ]
  },
  {
   "cell_type": "code",
   "execution_count": 63,
   "metadata": {},
   "outputs": [],
   "source": [
    "# Shuffle order to avoid order bias\n",
    "menopause_data = shuffle(menopause_data)\n"
   ]
  },
  {
   "cell_type": "markdown",
   "metadata": {},
   "source": [
    "### 🧮 Categorical values picky tuning"
   ]
  },
  {
   "cell_type": "markdown",
   "metadata": {},
   "source": [
    "For our purposes, we will use a classifier, so we need to encode numerical targets as categorical ones. Luckily, only 'NUMHOTF' is needed to be processed."
   ]
  },
  {
   "cell_type": "code",
   "execution_count": 64,
   "metadata": {},
   "outputs": [],
   "source": [
    "def get_hotf_category(hot_flashes: float):\n",
    "\n",
    "    if hot_flashes <= 0 and hot_flashes < 5:\n",
    "        return 1\n",
    "    elif hot_flashes >= 5 and hot_flashes < 10:\n",
    "        return 2\n",
    "    elif hot_flashes >= 10 and hot_flashes < 15:\n",
    "        return 3\n",
    "    elif hot_flashes >= 15 and hot_flashes < 20:\n",
    "        return 4\n",
    "    elif hot_flashes >= 20 and hot_flashes < 25:\n",
    "        return 5\n",
    "    elif hot_flashes >= 25 and hot_flashes < 30:\n",
    "        return 6\n",
    "    else:\n",
    "        return 7"
   ]
  },
  {
   "cell_type": "code",
   "execution_count": 65,
   "metadata": {},
   "outputs": [],
   "source": [
    "menp_data_encoded = menopause_data.copy()\n",
    "\n",
    "# Turn 'NUMHOTF' into a categorical feature\n",
    "menp_data_encoded['NUMHOTF'] = menp_data_encoded['NUMHOTF'].apply(lambda x: get_hotf_category(x)).astype(str)"
   ]
  },
  {
   "cell_type": "code",
   "execution_count": 66,
   "metadata": {},
   "outputs": [],
   "source": [
    "from pandas import DataFrame\n",
    "from sklearn.preprocessing import LabelEncoder\n",
    "\n",
    "\"\"\" Encode categorical features for KNN model \"\"\"\n",
    "\n",
    "def encode_labels(df: DataFrame, targets: list[str]):\n",
    "\n",
    "    le = LabelEncoder()\n",
    "\n",
    "    for target in targets:\n",
    "        df[target] = le.fit_transform(df[target])\n"
   ]
  },
  {
   "cell_type": "code",
   "execution_count": 67,
   "metadata": {},
   "outputs": [],
   "source": [
    "non_numerical_features = list(set(features) - set(numerical_features))\n",
    "\n",
    "encode_labels(menp_data_encoded, non_numerical_features)"
   ]
  },
  {
   "cell_type": "code",
   "execution_count": 68,
   "metadata": {},
   "outputs": [
    {
     "data": {
      "text/plain": [
       "EXERCIS    int32\n",
       "ESTRNJ1    int32\n",
       "HOTFLAS    int32\n",
       "CANCERS    int32\n",
       "RACE       int32\n",
       "OUTCOME    int32\n",
       "ESTRDA1    int32\n",
       "DIABETE    int32\n",
       "ESTROG1    int32\n",
       "ESTRDA2    int32\n",
       "HAPPY      int32\n",
       "DIETNUT    int32\n",
       "VAGINDR    int32\n",
       "PHYSILL    int32\n",
       "SMOKERE    int32\n",
       "HOURSPA    int32\n",
       "TRBLSLE    int32\n",
       "PRGNANT    int32\n",
       "ALCHL24    int32\n",
       "ESTRNJ2    int32\n",
       "COMBIN2    int32\n",
       "ESTROG2    int32\n",
       "dtype: object"
      ]
     },
     "execution_count": 68,
     "metadata": {},
     "output_type": "execute_result"
    }
   ],
   "source": [
    "menp_data_encoded[non_numerical_features] = menp_data_encoded[non_numerical_features].astype(int)\n",
    "menp_data_encoded[non_numerical_features].dtypes"
   ]
  },
  {
   "cell_type": "markdown",
   "metadata": {},
   "source": [
    "So far, all of out features are numerical and all out targets are categorical!"
   ]
  },
  {
   "cell_type": "code",
   "execution_count": 69,
   "metadata": {},
   "outputs": [
    {
     "data": {
      "text/plain": [
       "EXERCIS      int32\n",
       "DIETNUT      int32\n",
       "OUTCOME      int32\n",
       "ESTRNJ2      int32\n",
       "COMBIN2      int32\n",
       "ESTROG2      int32\n",
       "E2AVE      float64\n",
       "ALCHL24      int32\n",
       "ESTRDA2      int32\n",
       "HOURSPA      int32\n",
       "HEIGHT     float64\n",
       "ESTRDA1      int32\n",
       "WEIGHT     float64\n",
       "HAPPY        int32\n",
       "PRGNANT      int32\n",
       "VAGINDR      int32\n",
       "SMOKERE      int32\n",
       "HOTFLAS      int32\n",
       "PHYSILL      int32\n",
       "AVCIGDA    float64\n",
       "TRBLSLE      int32\n",
       "CANCERS      int32\n",
       "DIABETE      int32\n",
       "BROKEBO    float64\n",
       "ESTROG1      int32\n",
       "ESTRNJ1      int32\n",
       "AGE        float64\n",
       "RACE         int32\n",
       "dtype: object"
      ]
     },
     "execution_count": 69,
     "metadata": {},
     "output_type": "execute_result"
    }
   ],
   "source": [
    "menp_data_encoded[features].dtypes"
   ]
  },
  {
   "cell_type": "code",
   "execution_count": 70,
   "metadata": {},
   "outputs": [
    {
     "data": {
      "text/plain": [
       "STATUS     object\n",
       "NUMHOTF    object\n",
       "OSTEOPR    object\n",
       "MENODEP    object\n",
       "dtype: object"
      ]
     },
     "execution_count": 70,
     "metadata": {},
     "output_type": "execute_result"
    }
   ],
   "source": [
    "menp_data_encoded[targets].dtypes"
   ]
  },
  {
   "cell_type": "markdown",
   "metadata": {},
   "source": [
    "### 👨‍⚖️ Standardizing the data"
   ]
  },
  {
   "cell_type": "code",
   "execution_count": 73,
   "metadata": {},
   "outputs": [
    {
     "data": {
      "text/html": [
       "<div>\n",
       "<style scoped>\n",
       "    .dataframe tbody tr th:only-of-type {\n",
       "        vertical-align: middle;\n",
       "    }\n",
       "\n",
       "    .dataframe tbody tr th {\n",
       "        vertical-align: top;\n",
       "    }\n",
       "\n",
       "    .dataframe thead th {\n",
       "        text-align: right;\n",
       "    }\n",
       "</style>\n",
       "<table border=\"1\" class=\"dataframe\">\n",
       "  <thead>\n",
       "    <tr style=\"text-align: right;\">\n",
       "      <th></th>\n",
       "      <th>EXERCIS</th>\n",
       "      <th>DIETNUT</th>\n",
       "      <th>OUTCOME</th>\n",
       "      <th>ESTRNJ2</th>\n",
       "      <th>COMBIN2</th>\n",
       "      <th>ESTROG2</th>\n",
       "      <th>E2AVE</th>\n",
       "      <th>ALCHL24</th>\n",
       "      <th>ESTRDA2</th>\n",
       "      <th>HOURSPA</th>\n",
       "      <th>...</th>\n",
       "      <th>DIABETE</th>\n",
       "      <th>BROKEBO</th>\n",
       "      <th>ESTROG1</th>\n",
       "      <th>ESTRNJ1</th>\n",
       "      <th>AGE</th>\n",
       "      <th>RACE</th>\n",
       "      <th>STATUS</th>\n",
       "      <th>NUMHOTF</th>\n",
       "      <th>OSTEOPR</th>\n",
       "      <th>MENODEP</th>\n",
       "    </tr>\n",
       "  </thead>\n",
       "  <tbody>\n",
       "    <tr>\n",
       "      <th>2303</th>\n",
       "      <td>1</td>\n",
       "      <td>1</td>\n",
       "      <td>1</td>\n",
       "      <td>2</td>\n",
       "      <td>2</td>\n",
       "      <td>1</td>\n",
       "      <td>92.45</td>\n",
       "      <td>3</td>\n",
       "      <td>0</td>\n",
       "      <td>0</td>\n",
       "      <td>...</td>\n",
       "      <td>3</td>\n",
       "      <td>1.2</td>\n",
       "      <td>2</td>\n",
       "      <td>2</td>\n",
       "      <td>44.0</td>\n",
       "      <td>0</td>\n",
       "      <td>5</td>\n",
       "      <td>7</td>\n",
       "      <td>1</td>\n",
       "      <td>-9999</td>\n",
       "    </tr>\n",
       "    <tr>\n",
       "      <th>24383</th>\n",
       "      <td>3</td>\n",
       "      <td>3</td>\n",
       "      <td>0</td>\n",
       "      <td>0</td>\n",
       "      <td>0</td>\n",
       "      <td>0</td>\n",
       "      <td>16.20</td>\n",
       "      <td>4</td>\n",
       "      <td>0</td>\n",
       "      <td>6</td>\n",
       "      <td>...</td>\n",
       "      <td>3</td>\n",
       "      <td>1.0</td>\n",
       "      <td>2</td>\n",
       "      <td>2</td>\n",
       "      <td>53.0</td>\n",
       "      <td>2</td>\n",
       "      <td>2</td>\n",
       "      <td>7</td>\n",
       "      <td>1</td>\n",
       "      <td>-9999</td>\n",
       "    </tr>\n",
       "    <tr>\n",
       "      <th>441</th>\n",
       "      <td>1</td>\n",
       "      <td>1</td>\n",
       "      <td>1</td>\n",
       "      <td>2</td>\n",
       "      <td>2</td>\n",
       "      <td>1</td>\n",
       "      <td>45.40</td>\n",
       "      <td>3</td>\n",
       "      <td>0</td>\n",
       "      <td>0</td>\n",
       "      <td>...</td>\n",
       "      <td>3</td>\n",
       "      <td>1.2</td>\n",
       "      <td>2</td>\n",
       "      <td>2</td>\n",
       "      <td>47.0</td>\n",
       "      <td>0</td>\n",
       "      <td>4</td>\n",
       "      <td>7</td>\n",
       "      <td>1</td>\n",
       "      <td>-9999</td>\n",
       "    </tr>\n",
       "    <tr>\n",
       "      <th>14350</th>\n",
       "      <td>1</td>\n",
       "      <td>1</td>\n",
       "      <td>0</td>\n",
       "      <td>0</td>\n",
       "      <td>3</td>\n",
       "      <td>0</td>\n",
       "      <td>17.75</td>\n",
       "      <td>3</td>\n",
       "      <td>0</td>\n",
       "      <td>0</td>\n",
       "      <td>...</td>\n",
       "      <td>3</td>\n",
       "      <td>1.2</td>\n",
       "      <td>2</td>\n",
       "      <td>2</td>\n",
       "      <td>48.0</td>\n",
       "      <td>3</td>\n",
       "      <td>7</td>\n",
       "      <td>7</td>\n",
       "      <td>1</td>\n",
       "      <td>-9999</td>\n",
       "    </tr>\n",
       "    <tr>\n",
       "      <th>18812</th>\n",
       "      <td>3</td>\n",
       "      <td>3</td>\n",
       "      <td>0</td>\n",
       "      <td>0</td>\n",
       "      <td>0</td>\n",
       "      <td>0</td>\n",
       "      <td>27.39</td>\n",
       "      <td>2</td>\n",
       "      <td>0</td>\n",
       "      <td>0</td>\n",
       "      <td>...</td>\n",
       "      <td>3</td>\n",
       "      <td>1.0</td>\n",
       "      <td>2</td>\n",
       "      <td>2</td>\n",
       "      <td>51.0</td>\n",
       "      <td>2</td>\n",
       "      <td>2</td>\n",
       "      <td>7</td>\n",
       "      <td>1</td>\n",
       "      <td>-9999</td>\n",
       "    </tr>\n",
       "  </tbody>\n",
       "</table>\n",
       "<p>5 rows × 32 columns</p>\n",
       "</div>"
      ],
      "text/plain": [
       "       EXERCIS  DIETNUT  OUTCOME  ESTRNJ2  COMBIN2  ESTROG2  E2AVE  ALCHL24  \\\n",
       "2303         1        1        1        2        2        1  92.45        3   \n",
       "24383        3        3        0        0        0        0  16.20        4   \n",
       "441          1        1        1        2        2        1  45.40        3   \n",
       "14350        1        1        0        0        3        0  17.75        3   \n",
       "18812        3        3        0        0        0        0  27.39        2   \n",
       "\n",
       "       ESTRDA2  HOURSPA  ...  DIABETE  BROKEBO  ESTROG1  ESTRNJ1   AGE  RACE  \\\n",
       "2303         0        0  ...        3      1.2        2        2  44.0     0   \n",
       "24383        0        6  ...        3      1.0        2        2  53.0     2   \n",
       "441          0        0  ...        3      1.2        2        2  47.0     0   \n",
       "14350        0        0  ...        3      1.2        2        2  48.0     3   \n",
       "18812        0        0  ...        3      1.0        2        2  51.0     2   \n",
       "\n",
       "       STATUS  NUMHOTF  OSTEOPR  MENODEP  \n",
       "2303        5        7        1    -9999  \n",
       "24383       2        7        1    -9999  \n",
       "441         4        7        1    -9999  \n",
       "14350       7        7        1    -9999  \n",
       "18812       2        7        1    -9999  \n",
       "\n",
       "[5 rows x 32 columns]"
      ]
     },
     "execution_count": 73,
     "metadata": {},
     "output_type": "execute_result"
    }
   ],
   "source": [
    "# Standardize numerical features\n",
    "scaler = MinMaxScaler()\n",
    "std_menp_data = menp_data_encoded.copy()\n",
    "std_menp_data.head()"
   ]
  },
  {
   "cell_type": "code",
   "execution_count": 75,
   "metadata": {},
   "outputs": [
    {
     "data": {
      "text/html": [
       "<div>\n",
       "<style scoped>\n",
       "    .dataframe tbody tr th:only-of-type {\n",
       "        vertical-align: middle;\n",
       "    }\n",
       "\n",
       "    .dataframe tbody tr th {\n",
       "        vertical-align: top;\n",
       "    }\n",
       "\n",
       "    .dataframe thead th {\n",
       "        text-align: right;\n",
       "    }\n",
       "</style>\n",
       "<table border=\"1\" class=\"dataframe\">\n",
       "  <thead>\n",
       "    <tr style=\"text-align: right;\">\n",
       "      <th></th>\n",
       "      <th>EXERCIS</th>\n",
       "      <th>DIETNUT</th>\n",
       "      <th>OUTCOME</th>\n",
       "      <th>ESTRNJ2</th>\n",
       "      <th>COMBIN2</th>\n",
       "      <th>ESTROG2</th>\n",
       "      <th>E2AVE</th>\n",
       "      <th>ALCHL24</th>\n",
       "      <th>ESTRDA2</th>\n",
       "      <th>HOURSPA</th>\n",
       "      <th>...</th>\n",
       "      <th>PHYSILL</th>\n",
       "      <th>AVCIGDA</th>\n",
       "      <th>TRBLSLE</th>\n",
       "      <th>CANCERS</th>\n",
       "      <th>DIABETE</th>\n",
       "      <th>BROKEBO</th>\n",
       "      <th>ESTROG1</th>\n",
       "      <th>ESTRNJ1</th>\n",
       "      <th>AGE</th>\n",
       "      <th>RACE</th>\n",
       "    </tr>\n",
       "  </thead>\n",
       "  <tbody>\n",
       "    <tr>\n",
       "      <th>2303</th>\n",
       "      <td>0.0</td>\n",
       "      <td>0.0</td>\n",
       "      <td>0.0000</td>\n",
       "      <td>0.0000</td>\n",
       "      <td>0.0000</td>\n",
       "      <td>0.0000</td>\n",
       "      <td>0.012956</td>\n",
       "      <td>0.9999</td>\n",
       "      <td>0.9997</td>\n",
       "      <td>0.9993</td>\n",
       "      <td>...</td>\n",
       "      <td>0.999600</td>\n",
       "      <td>0.250847</td>\n",
       "      <td>1.000000</td>\n",
       "      <td>0.9999</td>\n",
       "      <td>0.9999</td>\n",
       "      <td>0.066667</td>\n",
       "      <td>0.9999</td>\n",
       "      <td>0.9999</td>\n",
       "      <td>0.090909</td>\n",
       "      <td>0.00</td>\n",
       "    </tr>\n",
       "    <tr>\n",
       "      <th>24383</th>\n",
       "      <td>1.0</td>\n",
       "      <td>1.0</td>\n",
       "      <td>0.9993</td>\n",
       "      <td>0.9997</td>\n",
       "      <td>0.9997</td>\n",
       "      <td>0.9997</td>\n",
       "      <td>0.002040</td>\n",
       "      <td>1.0000</td>\n",
       "      <td>0.9997</td>\n",
       "      <td>0.9996</td>\n",
       "      <td>...</td>\n",
       "      <td>0.999800</td>\n",
       "      <td>0.227119</td>\n",
       "      <td>0.999800</td>\n",
       "      <td>0.9999</td>\n",
       "      <td>0.9999</td>\n",
       "      <td>0.000000</td>\n",
       "      <td>0.9999</td>\n",
       "      <td>0.9999</td>\n",
       "      <td>0.500000</td>\n",
       "      <td>0.50</td>\n",
       "    </tr>\n",
       "    <tr>\n",
       "      <th>441</th>\n",
       "      <td>0.0</td>\n",
       "      <td>0.0</td>\n",
       "      <td>0.0000</td>\n",
       "      <td>0.0000</td>\n",
       "      <td>0.0000</td>\n",
       "      <td>0.0000</td>\n",
       "      <td>0.006220</td>\n",
       "      <td>0.9999</td>\n",
       "      <td>0.9997</td>\n",
       "      <td>0.9993</td>\n",
       "      <td>...</td>\n",
       "      <td>0.999600</td>\n",
       "      <td>0.169492</td>\n",
       "      <td>0.999700</td>\n",
       "      <td>0.9999</td>\n",
       "      <td>0.9999</td>\n",
       "      <td>0.066667</td>\n",
       "      <td>0.9999</td>\n",
       "      <td>0.9999</td>\n",
       "      <td>0.227273</td>\n",
       "      <td>0.00</td>\n",
       "    </tr>\n",
       "    <tr>\n",
       "      <th>14350</th>\n",
       "      <td>0.0</td>\n",
       "      <td>0.0</td>\n",
       "      <td>0.9993</td>\n",
       "      <td>0.9997</td>\n",
       "      <td>0.9999</td>\n",
       "      <td>0.9997</td>\n",
       "      <td>0.002262</td>\n",
       "      <td>0.9999</td>\n",
       "      <td>0.9997</td>\n",
       "      <td>0.9993</td>\n",
       "      <td>...</td>\n",
       "      <td>0.998601</td>\n",
       "      <td>0.094915</td>\n",
       "      <td>0.998601</td>\n",
       "      <td>0.9999</td>\n",
       "      <td>0.9999</td>\n",
       "      <td>0.066667</td>\n",
       "      <td>0.9999</td>\n",
       "      <td>0.9999</td>\n",
       "      <td>0.272727</td>\n",
       "      <td>0.75</td>\n",
       "    </tr>\n",
       "    <tr>\n",
       "      <th>18812</th>\n",
       "      <td>1.0</td>\n",
       "      <td>1.0</td>\n",
       "      <td>0.9993</td>\n",
       "      <td>0.9997</td>\n",
       "      <td>0.9997</td>\n",
       "      <td>0.9997</td>\n",
       "      <td>0.003642</td>\n",
       "      <td>0.0000</td>\n",
       "      <td>0.9997</td>\n",
       "      <td>0.9993</td>\n",
       "      <td>...</td>\n",
       "      <td>0.999600</td>\n",
       "      <td>0.176271</td>\n",
       "      <td>1.000000</td>\n",
       "      <td>0.9999</td>\n",
       "      <td>0.9999</td>\n",
       "      <td>0.000000</td>\n",
       "      <td>0.9999</td>\n",
       "      <td>0.9999</td>\n",
       "      <td>0.409091</td>\n",
       "      <td>0.50</td>\n",
       "    </tr>\n",
       "  </tbody>\n",
       "</table>\n",
       "<p>5 rows × 28 columns</p>\n",
       "</div>"
      ],
      "text/plain": [
       "       EXERCIS  DIETNUT  OUTCOME  ESTRNJ2  COMBIN2  ESTROG2     E2AVE  \\\n",
       "2303       0.0      0.0   0.0000   0.0000   0.0000   0.0000  0.012956   \n",
       "24383      1.0      1.0   0.9993   0.9997   0.9997   0.9997  0.002040   \n",
       "441        0.0      0.0   0.0000   0.0000   0.0000   0.0000  0.006220   \n",
       "14350      0.0      0.0   0.9993   0.9997   0.9999   0.9997  0.002262   \n",
       "18812      1.0      1.0   0.9993   0.9997   0.9997   0.9997  0.003642   \n",
       "\n",
       "       ALCHL24  ESTRDA2  HOURSPA  ...   PHYSILL   AVCIGDA   TRBLSLE  CANCERS  \\\n",
       "2303    0.9999   0.9997   0.9993  ...  0.999600  0.250847  1.000000   0.9999   \n",
       "24383   1.0000   0.9997   0.9996  ...  0.999800  0.227119  0.999800   0.9999   \n",
       "441     0.9999   0.9997   0.9993  ...  0.999600  0.169492  0.999700   0.9999   \n",
       "14350   0.9999   0.9997   0.9993  ...  0.998601  0.094915  0.998601   0.9999   \n",
       "18812   0.0000   0.9997   0.9993  ...  0.999600  0.176271  1.000000   0.9999   \n",
       "\n",
       "       DIABETE   BROKEBO  ESTROG1  ESTRNJ1       AGE  RACE  \n",
       "2303    0.9999  0.066667   0.9999   0.9999  0.090909  0.00  \n",
       "24383   0.9999  0.000000   0.9999   0.9999  0.500000  0.50  \n",
       "441     0.9999  0.066667   0.9999   0.9999  0.227273  0.00  \n",
       "14350   0.9999  0.066667   0.9999   0.9999  0.272727  0.75  \n",
       "18812   0.9999  0.000000   0.9999   0.9999  0.409091  0.50  \n",
       "\n",
       "[5 rows x 28 columns]"
      ]
     },
     "execution_count": 75,
     "metadata": {},
     "output_type": "execute_result"
    }
   ],
   "source": [
    "std_menp_data[features] = scaler.fit_transform(menopause_data[features])\n",
    "std_menp_data[features].head()"
   ]
  },
  {
   "cell_type": "markdown",
   "metadata": {},
   "source": [
    "### ⚙ Defining resources"
   ]
  },
  {
   "cell_type": "code",
   "execution_count": 76,
   "metadata": {},
   "outputs": [],
   "source": [
    "# Define cross-validation rules\n",
    "\n",
    "cv_seed = 1\n",
    "cv = RepeatedKFold(n_splits=10, n_repeats=3, random_state=cv_seed)"
   ]
  },
  {
   "cell_type": "code",
   "execution_count": 77,
   "metadata": {},
   "outputs": [],
   "source": [
    "# Classification models\n",
    "knn_classifier = KNeighborsClassifier(\n",
    "    n_neighbors=5\n",
    ")\n",
    "rf_classifier = RandomForestClassifier(\n",
    "    n_estimators=100,\n",
    "    random_state=0\n",
    ")\n",
    "\n",
    "# Define as multioutput classifier\n",
    "multi_knn_classifier = MultiOutputClassifier(knn_classifier, n_jobs=-1)\n",
    "multi_rf_classifier = MultiOutputClassifier(rf_classifier, n_jobs=-1)"
   ]
  },
  {
   "cell_type": "markdown",
   "metadata": {},
   "source": [
    "### 🏋️ Training and validating classifiers"
   ]
  },
  {
   "cell_type": "code",
   "execution_count": 79,
   "metadata": {},
   "outputs": [],
   "source": [
    "models_performance = {\n",
    "    'knn': {\n",
    "        'model': multi_knn_classifier,\n",
    "        'scores': cross_val_score(\n",
    "            multi_knn_classifier,\n",
    "            std_menp_data[features], \n",
    "            std_menp_data[targets],\n",
    "            scoring='neg_mean_absolute_error',\n",
    "            error_score='raise',\n",
    "            cv=cv, \n",
    "            n_jobs=-1\n",
    "        )\n",
    "    },\n",
    "    'rf': {\n",
    "        'model': multi_rf_classifier,\n",
    "        'scores': cross_val_score(\n",
    "            multi_rf_classifier,\n",
    "            std_menp_data[features], \n",
    "            std_menp_data[targets],\n",
    "            scoring='neg_mean_absolute_error', \n",
    "            cv=cv, \n",
    "            n_jobs=-1\n",
    "        )\n",
    "    }\n",
    "\n",
    "}"
   ]
  },
  {
   "cell_type": "code",
   "execution_count": 28,
   "metadata": {},
   "outputs": [
    {
     "data": {
      "text/plain": [
       "array([-0.07718713, -0.07493135, -0.06522166, -0.07875638, -0.07453903,\n",
       "       -0.07640251, -0.08003138, -0.06877943, -0.07672684, -0.07319466,\n",
       "       -0.07434288, -0.07306787, -0.07914869, -0.07659867, -0.07365634,\n",
       "       -0.0715967 , -0.07385249, -0.07397959, -0.07633438, -0.07339089,\n",
       "       -0.07571597, -0.0751275 , -0.0751275 , -0.07434288, -0.07012554,\n",
       "       -0.07306787, -0.07208709, -0.07339089, -0.07309655, -0.07702119])"
      ]
     },
     "execution_count": 28,
     "metadata": {},
     "output_type": "execute_result"
    }
   ],
   "source": [
    "models_performance['knn']['scores']"
   ]
  },
  {
   "cell_type": "code",
   "execution_count": 30,
   "metadata": {},
   "outputs": [
    {
     "name": "stdout",
     "output_type": "stream",
     "text": [
      "MAE: 0.074 (0.003)\n"
     ]
    }
   ],
   "source": [
    "n_scores = np.absolute(models_performance['knn']['scores'])\n",
    "print('MAE: %.3f (%.3f)' % (np.mean(n_scores), np.std(n_scores)))"
   ]
  },
  {
   "cell_type": "code",
   "execution_count": 31,
   "metadata": {},
   "outputs": [
    {
     "name": "stdout",
     "output_type": "stream",
     "text": [
      "MAE: 0.005 (0.001)\n"
     ]
    }
   ],
   "source": [
    "n_scores = np.absolute(models_performance['rf']['scores'])\n",
    "print('MAE: %.3f (%.3f)' % (np.mean(n_scores), np.std(n_scores)))"
   ]
  }
 ],
 "metadata": {
  "kernelspec": {
   "display_name": "base",
   "language": "python",
   "name": "python3"
  },
  "language_info": {
   "codemirror_mode": {
    "name": "ipython",
    "version": 3
   },
   "file_extension": ".py",
   "mimetype": "text/x-python",
   "name": "python",
   "nbconvert_exporter": "python",
   "pygments_lexer": "ipython3",
   "version": "3.11.4"
  }
 },
 "nbformat": 4,
 "nbformat_minor": 2
}
