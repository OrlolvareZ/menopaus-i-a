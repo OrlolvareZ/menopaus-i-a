{
 "cells": [
  {
   "cell_type": "code",
   "execution_count": 12,
   "metadata": {},
   "outputs": [],
   "source": [
    "import pandas as pd\n",
    "import numpy as np"
   ]
  },
  {
   "cell_type": "markdown",
   "metadata": {},
   "source": [
    "We'll train both a Random Forest Classifier and a K-Nearest Neighbors Classifier using our menopause data. We'll then compare the two models and see which one performs better."
   ]
  },
  {
   "cell_type": "markdown",
   "metadata": {},
   "source": [
    "# 📖 Loading codebook values"
   ]
  },
  {
   "cell_type": "markdown",
   "metadata": {},
   "source": [
    "### ℹ Reading in the data and variables to be used"
   ]
  },
  {
   "cell_type": "code",
   "execution_count": 13,
   "metadata": {},
   "outputs": [
    {
     "name": "stderr",
     "output_type": "stream",
     "text": [
      "C:\\Users\\Administrador\\AppData\\Local\\Temp\\ipykernel_7088\\4209325776.py:1: DtypeWarning: Columns (57,62) have mixed types. Specify dtype option on import or set low_memory=False.\n",
      "  menopause_data = pd.read_csv('./datasets/visit_dfs.csv', dtype={'patient_id': str})\n"
     ]
    },
    {
     "data": {
      "text/html": [
       "<div>\n",
       "<style scoped>\n",
       "    .dataframe tbody tr th:only-of-type {\n",
       "        vertical-align: middle;\n",
       "    }\n",
       "\n",
       "    .dataframe tbody tr th {\n",
       "        vertical-align: top;\n",
       "    }\n",
       "\n",
       "    .dataframe thead th {\n",
       "        text-align: right;\n",
       "    }\n",
       "</style>\n",
       "<table border=\"1\" class=\"dataframe\">\n",
       "  <thead>\n",
       "    <tr style=\"text-align: right;\">\n",
       "      <th></th>\n",
       "      <th>HAVEPER</th>\n",
       "      <th>EXPENSI</th>\n",
       "      <th>BROKEBO</th>\n",
       "      <th>AGE</th>\n",
       "      <th>EXERCIS</th>\n",
       "      <th>DNTKNOW</th>\n",
       "      <th>AVCIGDA</th>\n",
       "      <th>NOREASO</th>\n",
       "      <th>SIDEEFF</th>\n",
       "      <th>OSTEOPO</th>\n",
       "      <th>...</th>\n",
       "      <th>DIETNUT</th>\n",
       "      <th>LIKEFEL</th>\n",
       "      <th>COMBIN2</th>\n",
       "      <th>BONES3</th>\n",
       "      <th>PRGNANT</th>\n",
       "      <th>SMOKERE</th>\n",
       "      <th>ESTRNJ1</th>\n",
       "      <th>STOPOTH</th>\n",
       "      <th>BONES2</th>\n",
       "      <th>HOURSPA</th>\n",
       "    </tr>\n",
       "  </thead>\n",
       "  <tbody>\n",
       "    <tr>\n",
       "      <th>0</th>\n",
       "      <td>-1</td>\n",
       "      <td>-1</td>\n",
       "      <td>0</td>\n",
       "      <td>53</td>\n",
       "      <td>-9999</td>\n",
       "      <td>-1</td>\n",
       "      <td>-1</td>\n",
       "      <td>-1</td>\n",
       "      <td>-1</td>\n",
       "      <td>1</td>\n",
       "      <td>...</td>\n",
       "      <td>-9999</td>\n",
       "      <td>-1</td>\n",
       "      <td>-9999</td>\n",
       "      <td>-1</td>\n",
       "      <td>1</td>\n",
       "      <td>1</td>\n",
       "      <td>1</td>\n",
       "      <td>-1</td>\n",
       "      <td>-1</td>\n",
       "      <td>-1</td>\n",
       "    </tr>\n",
       "    <tr>\n",
       "      <th>1</th>\n",
       "      <td>-1</td>\n",
       "      <td>-1</td>\n",
       "      <td>0</td>\n",
       "      <td>52</td>\n",
       "      <td>-9999</td>\n",
       "      <td>-1</td>\n",
       "      <td>-1</td>\n",
       "      <td>-1</td>\n",
       "      <td>-1</td>\n",
       "      <td>-1</td>\n",
       "      <td>...</td>\n",
       "      <td>-9999</td>\n",
       "      <td>-1</td>\n",
       "      <td>-9999</td>\n",
       "      <td>-1</td>\n",
       "      <td>1</td>\n",
       "      <td>1</td>\n",
       "      <td>1</td>\n",
       "      <td>-1</td>\n",
       "      <td>-1</td>\n",
       "      <td>-1</td>\n",
       "    </tr>\n",
       "    <tr>\n",
       "      <th>2</th>\n",
       "      <td>-1</td>\n",
       "      <td>-1</td>\n",
       "      <td>1</td>\n",
       "      <td>46</td>\n",
       "      <td>-9999</td>\n",
       "      <td>-1</td>\n",
       "      <td>-1</td>\n",
       "      <td>-1</td>\n",
       "      <td>-1</td>\n",
       "      <td>-1</td>\n",
       "      <td>...</td>\n",
       "      <td>-9999</td>\n",
       "      <td>-1</td>\n",
       "      <td>-9999</td>\n",
       "      <td>-1</td>\n",
       "      <td>1</td>\n",
       "      <td>1</td>\n",
       "      <td>1</td>\n",
       "      <td>-1</td>\n",
       "      <td>-1</td>\n",
       "      <td>-1</td>\n",
       "    </tr>\n",
       "    <tr>\n",
       "      <th>3</th>\n",
       "      <td>-1</td>\n",
       "      <td>-1</td>\n",
       "      <td>0</td>\n",
       "      <td>50</td>\n",
       "      <td>-9999</td>\n",
       "      <td>-1</td>\n",
       "      <td>-1</td>\n",
       "      <td>-1</td>\n",
       "      <td>-1</td>\n",
       "      <td>-1</td>\n",
       "      <td>...</td>\n",
       "      <td>-9999</td>\n",
       "      <td>-1</td>\n",
       "      <td>-9999</td>\n",
       "      <td>-1</td>\n",
       "      <td>1</td>\n",
       "      <td>1</td>\n",
       "      <td>1</td>\n",
       "      <td>-1</td>\n",
       "      <td>-1</td>\n",
       "      <td>4</td>\n",
       "    </tr>\n",
       "    <tr>\n",
       "      <th>4</th>\n",
       "      <td>-1</td>\n",
       "      <td>-1</td>\n",
       "      <td>0</td>\n",
       "      <td>52</td>\n",
       "      <td>-9999</td>\n",
       "      <td>-1</td>\n",
       "      <td>-1</td>\n",
       "      <td>-1</td>\n",
       "      <td>-1</td>\n",
       "      <td>-1</td>\n",
       "      <td>...</td>\n",
       "      <td>-9999</td>\n",
       "      <td>-1</td>\n",
       "      <td>-9999</td>\n",
       "      <td>-1</td>\n",
       "      <td>1</td>\n",
       "      <td>1</td>\n",
       "      <td>1</td>\n",
       "      <td>-1</td>\n",
       "      <td>-1</td>\n",
       "      <td>-1</td>\n",
       "    </tr>\n",
       "  </tbody>\n",
       "</table>\n",
       "<p>5 rows × 64 columns</p>\n",
       "</div>"
      ],
      "text/plain": [
       "   HAVEPER  EXPENSI  BROKEBO  AGE  EXERCIS  DNTKNOW  AVCIGDA  NOREASO  \\\n",
       "0       -1       -1        0   53    -9999       -1       -1       -1   \n",
       "1       -1       -1        0   52    -9999       -1       -1       -1   \n",
       "2       -1       -1        1   46    -9999       -1       -1       -1   \n",
       "3       -1       -1        0   50    -9999       -1       -1       -1   \n",
       "4       -1       -1        0   52    -9999       -1       -1       -1   \n",
       "\n",
       "   SIDEEFF  OSTEOPO  ...  DIETNUT  LIKEFEL  COMBIN2  BONES3  PRGNANT  SMOKERE  \\\n",
       "0       -1        1  ...    -9999       -1    -9999      -1        1        1   \n",
       "1       -1       -1  ...    -9999       -1    -9999      -1        1        1   \n",
       "2       -1       -1  ...    -9999       -1    -9999      -1        1        1   \n",
       "3       -1       -1  ...    -9999       -1    -9999      -1        1        1   \n",
       "4       -1       -1  ...    -9999       -1    -9999      -1        1        1   \n",
       "\n",
       "   ESTRNJ1  STOPOTH  BONES2  HOURSPA  \n",
       "0        1       -1      -1       -1  \n",
       "1        1       -1      -1       -1  \n",
       "2        1       -1      -1       -1  \n",
       "3        1       -1      -1        4  \n",
       "4        1       -1      -1       -1  \n",
       "\n",
       "[5 rows x 64 columns]"
      ]
     },
     "execution_count": 13,
     "metadata": {},
     "output_type": "execute_result"
    }
   ],
   "source": [
    "menopause_data = pd.read_csv('./datasets/visit_dfs.csv', dtype={'patient_id': str})\n",
    "menopause_data.head()"
   ]
  },
  {
   "cell_type": "code",
   "execution_count": 14,
   "metadata": {},
   "outputs": [
    {
     "data": {
      "text/plain": [
       "['MENODEP',\n",
       " 'EXERCIS',\n",
       " 'DIETNUT',\n",
       " 'OUTCOME',\n",
       " 'ESTRNJ2',\n",
       " 'COMBIN2',\n",
       " 'ESTROG2',\n",
       " 'E2AVE',\n",
       " 'ALCHL24',\n",
       " 'ESTRDA2',\n",
       " 'HOURSPA',\n",
       " 'HEIGHT',\n",
       " 'ESTRDA1',\n",
       " 'WEIGHT',\n",
       " 'HAPPY',\n",
       " 'PRGNANT',\n",
       " 'VAGINDR',\n",
       " 'SMOKERE',\n",
       " 'HOTFLAS',\n",
       " 'PHYSILL',\n",
       " 'AVCIGDA',\n",
       " 'TRBLSLE',\n",
       " 'CANCERS',\n",
       " 'DIABETE',\n",
       " 'BROKEBO',\n",
       " 'OSTEOPR',\n",
       " 'STATUS',\n",
       " 'ESTROG1',\n",
       " 'ESTRNJ1',\n",
       " 'AGE',\n",
       " 'RACE',\n",
       " 'NUMHOTF',\n",
       " 'VISIT']"
      ]
     },
     "execution_count": 14,
     "metadata": {},
     "output_type": "execute_result"
    }
   ],
   "source": [
    "with open('./lista_variables/variables_selected_final.txt', 'r') as f:\n",
    "    features = f.read().splitlines()\n",
    "\n",
    "features"
   ]
  },
  {
   "cell_type": "markdown",
   "metadata": {},
   "source": [
    "> Do note that our variables are mainly categorical, but not all of them. We'll read a JSON file to know which variables aren't categorical and we'll change them to float."
   ]
  },
  {
   "cell_type": "code",
   "execution_count": 15,
   "metadata": {},
   "outputs": [],
   "source": [
    "import json\n",
    "\n",
    "with open('./lista_variables/variables_selected_labels.json', 'r') as file:\n",
    "    features_labels = json.load(file)"
   ]
  },
  {
   "cell_type": "markdown",
   "metadata": {},
   "source": [
    "### ✅ Parsing data to correct data type"
   ]
  },
  {
   "cell_type": "code",
   "execution_count": 16,
   "metadata": {},
   "outputs": [],
   "source": [
    "for feature in features_labels['NUMERICAL']['vars']['int']:\n",
    "    menopause_data[feature] = menopause_data[feature].astype(int)\n",
    "\n",
    "for feature in features_labels['NUMERICAL']['vars']['float']:\n",
    "    menopause_data[feature] = menopause_data[feature].astype(float)"
   ]
  },
  {
   "cell_type": "markdown",
   "metadata": {},
   "source": [
    "# 🧠 Model training!"
   ]
  },
  {
   "cell_type": "code",
   "execution_count": null,
   "metadata": {},
   "outputs": [],
   "source": [
    "from sklearn.multioutput import MultiOutputClassifier\n",
    "from sklearn.ensemble import RandomForestClassifier\n",
    "from sklearn.neighbors import KNeighborsClassifier\n",
    "from sklearn.utils import shuffle\n",
    "import numpy as np"
   ]
  }
 ],
 "metadata": {
  "kernelspec": {
   "display_name": "base",
   "language": "python",
   "name": "python3"
  },
  "language_info": {
   "codemirror_mode": {
    "name": "ipython",
    "version": 3
   },
   "file_extension": ".py",
   "mimetype": "text/x-python",
   "name": "python",
   "nbconvert_exporter": "python",
   "pygments_lexer": "ipython3",
   "version": "3.11.4"
  }
 },
 "nbformat": 4,
 "nbformat_minor": 2
}
